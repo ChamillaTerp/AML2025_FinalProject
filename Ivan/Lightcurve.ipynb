{
 "cells": [
  {
   "cell_type": "code",
   "execution_count": 4,
   "id": "bf899c25",
   "metadata": {},
   "outputs": [
    {
     "name": "stdout",
     "output_type": "stream",
     "text": [
      "Downloading data for KIC 10797460...\n",
      "Failed for KIC 10797460: no implementation found for 'numpy.pad' on types that implement __array_function__: [<class 'astropy.utils.masked.core.MaskedNDArray'>]\n",
      "Downloading data for KIC 10811496...\n",
      "Failed for KIC 10811496: no implementation found for 'numpy.pad' on types that implement __array_function__: [<class 'astropy.utils.masked.core.MaskedNDArray'>]\n",
      "Downloading data for KIC 10848459...\n",
      "Failed for KIC 10848459: no implementation found for 'numpy.pad' on types that implement __array_function__: [<class 'astropy.utils.masked.core.MaskedNDArray'>]\n",
      "Downloading data for KIC 10854555...\n",
      "Downloading data for KIC 10872983...\n",
      "Saved as exo_like_flux.csv\n"
     ]
    },
    {
     "name": "stderr",
     "output_type": "stream",
     "text": [
      "/var/folders/38/0j80sy553b1gf1xw4vdt3vgh0000gn/T/ipykernel_41559/4096194651.py:14: LightkurveDeprecationWarning: The search_lightcurvefile function is deprecated and may be removed in a future version.\n",
      "        Use search_lightcurve() instead.\n",
      "  search_result = search_lightcurvefile(f'KIC {kepid}', mission='Kepler')\n",
      "/Users/ivankanev/anaconda3/envs/MachineLearning/lib/python3.12/site-packages/lightkurve/search.py:420: LightkurveWarning: Warning: 17 files available to download. Only the first file has been downloaded. Please use `download_all()` or specify additional criteria (e.g. quarter, campaign, or sector) to limit your search.\n",
      "  warnings.warn(\n",
      "/var/folders/38/0j80sy553b1gf1xw4vdt3vgh0000gn/T/ipykernel_41559/4096194651.py:16: LightkurveDeprecationWarning: The PDCSAP_FLUX function is deprecated and may be removed in a future version.\n",
      "  lc = lcf.PDCSAP_FLUX.remove_nans()  # 🔁 KEEP raw flux (no normalize())\n",
      "/var/folders/38/0j80sy553b1gf1xw4vdt3vgh0000gn/T/ipykernel_41559/4096194651.py:14: LightkurveDeprecationWarning: The search_lightcurvefile function is deprecated and may be removed in a future version.\n",
      "        Use search_lightcurve() instead.\n",
      "  search_result = search_lightcurvefile(f'KIC {kepid}', mission='Kepler')\n",
      "/Users/ivankanev/anaconda3/envs/MachineLearning/lib/python3.12/site-packages/lightkurve/search.py:420: LightkurveWarning: Warning: 14 files available to download. Only the first file has been downloaded. Please use `download_all()` or specify additional criteria (e.g. quarter, campaign, or sector) to limit your search.\n",
      "  warnings.warn(\n",
      "/var/folders/38/0j80sy553b1gf1xw4vdt3vgh0000gn/T/ipykernel_41559/4096194651.py:16: LightkurveDeprecationWarning: The PDCSAP_FLUX function is deprecated and may be removed in a future version.\n",
      "  lc = lcf.PDCSAP_FLUX.remove_nans()  # 🔁 KEEP raw flux (no normalize())\n",
      "/var/folders/38/0j80sy553b1gf1xw4vdt3vgh0000gn/T/ipykernel_41559/4096194651.py:14: LightkurveDeprecationWarning: The search_lightcurvefile function is deprecated and may be removed in a future version.\n",
      "        Use search_lightcurve() instead.\n",
      "  search_result = search_lightcurvefile(f'KIC {kepid}', mission='Kepler')\n",
      "/Users/ivankanev/anaconda3/envs/MachineLearning/lib/python3.12/site-packages/lightkurve/search.py:420: LightkurveWarning: Warning: 14 files available to download. Only the first file has been downloaded. Please use `download_all()` or specify additional criteria (e.g. quarter, campaign, or sector) to limit your search.\n",
      "  warnings.warn(\n",
      "/var/folders/38/0j80sy553b1gf1xw4vdt3vgh0000gn/T/ipykernel_41559/4096194651.py:16: LightkurveDeprecationWarning: The PDCSAP_FLUX function is deprecated and may be removed in a future version.\n",
      "  lc = lcf.PDCSAP_FLUX.remove_nans()  # 🔁 KEEP raw flux (no normalize())\n",
      "/var/folders/38/0j80sy553b1gf1xw4vdt3vgh0000gn/T/ipykernel_41559/4096194651.py:14: LightkurveDeprecationWarning: The search_lightcurvefile function is deprecated and may be removed in a future version.\n",
      "        Use search_lightcurve() instead.\n",
      "  search_result = search_lightcurvefile(f'KIC {kepid}', mission='Kepler')\n",
      "/Users/ivankanev/anaconda3/envs/MachineLearning/lib/python3.12/site-packages/lightkurve/search.py:420: LightkurveWarning: Warning: 22 files available to download. Only the first file has been downloaded. Please use `download_all()` or specify additional criteria (e.g. quarter, campaign, or sector) to limit your search.\n",
      "  warnings.warn(\n",
      "/var/folders/38/0j80sy553b1gf1xw4vdt3vgh0000gn/T/ipykernel_41559/4096194651.py:16: LightkurveDeprecationWarning: The PDCSAP_FLUX function is deprecated and may be removed in a future version.\n",
      "  lc = lcf.PDCSAP_FLUX.remove_nans()  # 🔁 KEEP raw flux (no normalize())\n",
      "/var/folders/38/0j80sy553b1gf1xw4vdt3vgh0000gn/T/ipykernel_41559/4096194651.py:14: LightkurveDeprecationWarning: The search_lightcurvefile function is deprecated and may be removed in a future version.\n",
      "        Use search_lightcurve() instead.\n",
      "  search_result = search_lightcurvefile(f'KIC {kepid}', mission='Kepler')\n",
      "/Users/ivankanev/anaconda3/envs/MachineLearning/lib/python3.12/site-packages/lightkurve/search.py:420: LightkurveWarning: Warning: 25 files available to download. Only the first file has been downloaded. Please use `download_all()` or specify additional criteria (e.g. quarter, campaign, or sector) to limit your search.\n",
      "  warnings.warn(\n",
      "/var/folders/38/0j80sy553b1gf1xw4vdt3vgh0000gn/T/ipykernel_41559/4096194651.py:16: LightkurveDeprecationWarning: The PDCSAP_FLUX function is deprecated and may be removed in a future version.\n",
      "  lc = lcf.PDCSAP_FLUX.remove_nans()  # 🔁 KEEP raw flux (no normalize())\n"
     ]
    }
   ],
   "source": [
    "import pandas as pd\n",
    "from lightkurve import search_lightcurvefile\n",
    "import numpy as np\n",
    "\n",
    "# List of Kepler IDs to download\n",
    "kepler_ids = [10797460, 10811496, 10848459, 10854555, 10872983]\n",
    "\n",
    "# Placeholder for flux time series\n",
    "flux_data = []\n",
    "\n",
    "for kepid in kepler_ids:\n",
    "    try:\n",
    "        print(f\"Downloading data for KIC {kepid}...\")\n",
    "        search_result = search_lightcurvefile(f'KIC {kepid}', mission='Kepler')\n",
    "        lcf = search_result.download()\n",
    "        lc = lcf.PDCSAP_FLUX.remove_nans()  # 🔁 KEEP raw flux (no normalize())\n",
    "\n",
    "        flux = lc.flux.value\n",
    "\n",
    "        # Ensure all series are the same length (truncate or pad to 3000)\n",
    "        if len(flux) >= 3000:\n",
    "            flux = flux[:3000]\n",
    "        else:\n",
    "            flux = np.pad(flux, (0, 3000 - len(flux)), mode='constant', constant_values=np.nan)\n",
    "\n",
    "        flux_data.append(flux)\n",
    "\n",
    "    except Exception as e:\n",
    "        print(f\"Failed for KIC {kepid}: {e}\")\n",
    "\n",
    "# Create DataFrame and save to CSV\n",
    "df_flux = pd.DataFrame(flux_data)\n",
    "df_flux.insert(0, 'LABEL', 2)  # Optional: insert dummy label column like in exoTrain\n",
    "\n",
    "df_flux.columns = ['LABEL'] + [f'FLUX.{i+1}' for i in range(3000)]  # Name columns like in exoTrain\n",
    "\n",
    "df_flux.to_csv(\"exo_like_flux.csv\", index=False)\n",
    "print(\"Saved as exo_like_flux.csv\")\n"
   ]
  },
  {
   "cell_type": "code",
   "execution_count": null,
   "id": "315b140e",
   "metadata": {},
   "outputs": [],
   "source": []
  }
 ],
 "metadata": {
  "kernelspec": {
   "display_name": "MachineLearning",
   "language": "python",
   "name": "python3"
  },
  "language_info": {
   "codemirror_mode": {
    "name": "ipython",
    "version": 3
   },
   "file_extension": ".py",
   "mimetype": "text/x-python",
   "name": "python",
   "nbconvert_exporter": "python",
   "pygments_lexer": "ipython3",
   "version": "3.12.9"
  }
 },
 "nbformat": 4,
 "nbformat_minor": 5
}
