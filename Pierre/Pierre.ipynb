{
 "cells": [
  {
   "cell_type": "code",
   "execution_count": 14,
   "metadata": {},
   "outputs": [],
   "source": [
    "import polars as pl\n",
    "import os"
   ]
  },
  {
   "cell_type": "code",
   "execution_count": 19,
   "metadata": {},
   "outputs": [
    {
     "data": {
      "text/html": [
       "<div><style>\n",
       ".dataframe > thead > tr,\n",
       ".dataframe > tbody > tr {\n",
       "  text-align: right;\n",
       "  white-space: pre-wrap;\n",
       "}\n",
       "</style>\n",
       "<small>shape: (5, 115)</small><table border=\"1\" class=\"dataframe\"><thead><tr><th>iauname</th><th>ra</th><th>dec</th><th>redshift</th><th>elpetro_absmag_r</th><th>sersic_nmgy_r</th><th>petro_th50</th><th>petro_th90</th><th>petro_theta</th><th>upload_group</th><th>active_learning_on</th><th>in_gzd_c</th><th>data_release</th><th>smooth-or-featured_total-votes</th><th>smooth-or-featured_smooth</th><th>smooth-or-featured_smooth_fraction</th><th>smooth-or-featured_smooth_debiased</th><th>smooth-or-featured_featured-or-disk</th><th>smooth-or-featured_featured-or-disk_fraction</th><th>smooth-or-featured_featured-or-disk_debiased</th><th>smooth-or-featured_artifact</th><th>smooth-or-featured_artifact_fraction</th><th>smooth-or-featured_artifact_debiased</th><th>how-rounded_total-votes</th><th>how-rounded_completely</th><th>how-rounded_completely_fraction</th><th>how-rounded_completely_debiased</th><th>how-rounded_in-between</th><th>how-rounded_in-between_fraction</th><th>how-rounded_in-between_debiased</th><th>how-rounded_cigar-shaped</th><th>how-rounded_cigar-shaped_fraction</th><th>how-rounded_cigar-shaped_debiased</th><th>disk-edge-on_total-votes</th><th>disk-edge-on_yes</th><th>disk-edge-on_yes_fraction</th><th>disk-edge-on_yes_debiased</th><th>&hellip;</th><th>spiral-arm-count_2</th><th>spiral-arm-count_2_fraction</th><th>spiral-arm-count_2_debiased</th><th>spiral-arm-count_3</th><th>spiral-arm-count_3_fraction</th><th>spiral-arm-count_3_debiased</th><th>spiral-arm-count_4</th><th>spiral-arm-count_4_fraction</th><th>spiral-arm-count_4_debiased</th><th>spiral-arm-count_more-than-4</th><th>spiral-arm-count_more-than-4_fraction</th><th>spiral-arm-count_more-than-4_debiased</th><th>bulge-size_total-votes</th><th>bulge-size_none</th><th>bulge-size_none_fraction</th><th>bulge-size_none_debiased</th><th>bulge-size_obvious</th><th>bulge-size_obvious_fraction</th><th>bulge-size_obvious_debiased</th><th>bulge-size_dominant</th><th>bulge-size_dominant_fraction</th><th>bulge-size_dominant_debiased</th><th>merging_total-votes</th><th>merging_merger</th><th>merging_merger_fraction</th><th>merging_merger_debiased</th><th>merging_tidal-debris</th><th>merging_tidal-debris_fraction</th><th>merging_tidal-debris_debiased</th><th>merging_both</th><th>merging_both_fraction</th><th>merging_both_debiased</th><th>merging_neither</th><th>merging_neither_fraction</th><th>merging_neither_debiased</th><th>wrong_size_statistic</th><th>wrong_size_warning</th></tr><tr><td>str</td><td>f64</td><td>f64</td><td>f32</td><td>f32</td><td>f32</td><td>f32</td><td>f32</td><td>f32</td><td>str</td><td>bool</td><td>bool</td><td>str</td><td>i64</td><td>i64</td><td>f64</td><td>f64</td><td>i64</td><td>f64</td><td>f64</td><td>i64</td><td>f64</td><td>f64</td><td>i64</td><td>i64</td><td>f64</td><td>f64</td><td>i64</td><td>f64</td><td>f64</td><td>i64</td><td>f64</td><td>f64</td><td>i64</td><td>i64</td><td>f64</td><td>f64</td><td>&hellip;</td><td>i64</td><td>f64</td><td>f64</td><td>i64</td><td>f64</td><td>f64</td><td>i64</td><td>f64</td><td>f64</td><td>i64</td><td>f64</td><td>f64</td><td>i64</td><td>i64</td><td>f64</td><td>f64</td><td>i64</td><td>f64</td><td>f64</td><td>i64</td><td>f64</td><td>f64</td><td>i64</td><td>i64</td><td>f64</td><td>f64</td><td>i64</td><td>f64</td><td>f64</td><td>i64</td><td>f64</td><td>f64</td><td>i64</td><td>f64</td><td>f64</td><td>f64</td><td>bool</td></tr></thead><tbody><tr><td>&quot;J103438.28-005109.6&quot;</td><td>158.659544</td><td>-0.85268</td><td>0.073783</td><td>-21.083954</td><td>520.810913</td><td>2.88914</td><td>6.546928</td><td>5.985117</td><td>&quot;pre_active&quot;</td><td>false</td><td>true</td><td>&quot;DR1&quot;</td><td>39</td><td>19</td><td>0.487179</td><td>0.115971</td><td>15</td><td>0.384615</td><td>0.804878</td><td>5</td><td>0.128205</td><td>0.157894</td><td>19</td><td>16</td><td>0.842105</td><td>0.870968</td><td>2</td><td>0.105263</td><td>0.12</td><td>1</td><td>0.052632</td><td>0.133333</td><td>15</td><td>2</td><td>0.133333</td><td>0.113636</td><td>&hellip;</td><td>5</td><td>0.625</td><td>0.265582</td><td>1</td><td>0.125</td><td>0.294883</td><td>1</td><td>0.125</td><td>0.343777</td><td>1</td><td>0.125</td><td>0.382353</td><td>13</td><td>0</td><td>0.0</td><td>0.0</td><td>12</td><td>0.923077</td><td>0.904762</td><td>1</td><td>0.076923</td><td>0.095238</td><td>34</td><td>5</td><td>0.147059</td><td>0.143352</td><td>3</td><td>0.088235</td><td>0.088889</td><td>3</td><td>0.088235</td><td>0.189189</td><td>23</td><td>0.676471</td><td>0.742857</td><td>152.781368</td><td>false</td></tr><tr><td>&quot;J103542.82-004509.8&quot;</td><td>158.928432</td><td>-0.752741</td><td>0.115605</td><td>-20.905863</td><td>157.557159</td><td>1.599772</td><td>4.8975</td><td>3.493677</td><td>&quot;pre_active&quot;</td><td>false</td><td>true</td><td>&quot;DR1&quot;</td><td>36</td><td>31</td><td>0.861111</td><td>0.386868</td><td>2</td><td>0.055556</td><td>0.16129</td><td>3</td><td>0.083333</td><td>0.096525</td><td>31</td><td>27</td><td>0.870968</td><td>0.870968</td><td>4</td><td>0.129032</td><td>0.129032</td><td>0</td><td>0.0</td><td>0.0</td><td>2</td><td>1</td><td>0.5</td><td>0.16</td><td>&hellip;</td><td>0</td><td>0.0</td><td>0.0</td><td>0</td><td>0.0</td><td>0.0</td><td>0</td><td>0.0</td><td>0.0</td><td>0</td><td>0.0</td><td>0.0</td><td>1</td><td>0</td><td>0.0</td><td>0.0</td><td>1</td><td>1.0</td><td>1.0</td><td>0</td><td>0.0</td><td>0.0</td><td>33</td><td>6</td><td>0.181818</td><td>0.173006</td><td>3</td><td>0.090909</td><td>0.130435</td><td>1</td><td>0.030303</td><td>0.033333</td><td>23</td><td>0.69697</td><td>0.680851</td><td>152.214574</td><td>false</td></tr><tr><td>&quot;J103501.69-004952.4&quot;</td><td>158.757099</td><td>-0.831234</td><td>0.118851</td><td>-19.841774</td><td>58.042347</td><td>1.326934</td><td>3.000635</td><td>2.698255</td><td>&quot;pre_active&quot;</td><td>false</td><td>false</td><td>&quot;DR1&quot;</td><td>41</td><td>33</td><td>0.804878</td><td>0.283874</td><td>1</td><td>0.02439</td><td>0.592593</td><td>7</td><td>0.170732</td><td>0.217691</td><td>33</td><td>21</td><td>0.636364</td><td>0.372093</td><td>12</td><td>0.363636</td><td>0.487179</td><td>0</td><td>0.0</td><td>0.0</td><td>1</td><td>0</td><td>0.0</td><td>0.0</td><td>&hellip;</td><td>0</td><td>0.0</td><td>0.0</td><td>0</td><td>0.0</td><td>0.0</td><td>0</td><td>0.0</td><td>0.0</td><td>0</td><td>0.0</td><td>0.0</td><td>1</td><td>0</td><td>0.0</td><td>0.0</td><td>1</td><td>1.0</td><td>1.0</td><td>0</td><td>0.0</td><td>0.0</td><td>34</td><td>1</td><td>0.029412</td><td>0.033961</td><td>1</td><td>0.029412</td><td>0.1</td><td>0</td><td>0.0</td><td>0.0</td><td>32</td><td>0.941176</td><td>0.869565</td><td>160.183576</td><td>false</td></tr><tr><td>&quot;J103649.87-003753.2&quot;</td><td>159.20782</td><td>-0.63147</td><td>0.06356</td><td>-19.598785</td><td>173.327042</td><td>3.622341</td><td>7.018666</td><td>6.951218</td><td>&quot;pre_active&quot;</td><td>false</td><td>true</td><td>&quot;DR1&quot;</td><td>49</td><td>31</td><td>0.632653</td><td>0.275341</td><td>14</td><td>0.285714</td><td>0.864865</td><td>4</td><td>0.081633</td><td>0.096841</td><td>31</td><td>15</td><td>0.483871</td><td>0.483871</td><td>16</td><td>0.516129</td><td>0.516129</td><td>0</td><td>0.0</td><td>0.0</td><td>14</td><td>0</td><td>0.0</td><td>0.0</td><td>&hellip;</td><td>4</td><td>0.571429</td><td>0.243534</td><td>0</td><td>0.0</td><td>0.0</td><td>2</td><td>0.285714</td><td>0.522109</td><td>1</td><td>0.142857</td><td>0.304348</td><td>14</td><td>4</td><td>0.285714</td><td>0.15241</td><td>10</td><td>0.714286</td><td>0.764706</td><td>0</td><td>0.0</td><td>0.0</td><td>45</td><td>1</td><td>0.022222</td><td>0.025072</td><td>2</td><td>0.044444</td><td>0.054545</td><td>1</td><td>0.022222</td><td>0.033333</td><td>41</td><td>0.911111</td><td>0.885714</td><td>158.02642</td><td>false</td></tr><tr><td>&quot;J103647.21-004056.4&quot;</td><td>159.196722</td><td>-0.682358</td><td>0.095834</td><td>-20.028103</td><td>106.315079</td><td>2.078999</td><td>5.593759</td><td>4.589167</td><td>&quot;pre_active&quot;</td><td>false</td><td>true</td><td>&quot;DR1&quot;</td><td>51</td><td>40</td><td>0.784314</td><td>0.317304</td><td>6</td><td>0.117647</td><td>0.849057</td><td>5</td><td>0.098039</td><td>0.118077</td><td>40</td><td>10</td><td>0.25</td><td>0.233333</td><td>29</td><td>0.725</td><td>0.565217</td><td>1</td><td>0.025</td><td>0.047619</td><td>6</td><td>0</td><td>0.0</td><td>0.0</td><td>&hellip;</td><td>0</td><td>0.0</td><td>0.0</td><td>0</td><td>0.0</td><td>0.0</td><td>0</td><td>0.0</td><td>0.0</td><td>0</td><td>0.0</td><td>0.0</td><td>6</td><td>1</td><td>0.166667</td><td>0.024334</td><td>4</td><td>0.666667</td><td>0.805556</td><td>1</td><td>0.166667</td><td>0.125</td><td>46</td><td>4</td><td>0.086957</td><td>0.088127</td><td>2</td><td>0.043478</td><td>0.090909</td><td>1</td><td>0.021739</td><td>0.03125</td><td>39</td><td>0.847826</td><td>0.785714</td><td>157.307492</td><td>false</td></tr></tbody></table></div>"
      ],
      "text/plain": [
       "shape: (5, 115)\n",
       "┌───────────┬───────────┬───────────┬──────────┬───┬───────────┬───────────┬───────────┬───────────┐\n",
       "│ iauname   ┆ ra        ┆ dec       ┆ redshift ┆ … ┆ merging_n ┆ merging_n ┆ wrong_siz ┆ wrong_siz │\n",
       "│ ---       ┆ ---       ┆ ---       ┆ ---      ┆   ┆ either_fr ┆ either_de ┆ e_statist ┆ e_warning │\n",
       "│ str       ┆ f64       ┆ f64       ┆ f32      ┆   ┆ action    ┆ biased    ┆ ic        ┆ ---       │\n",
       "│           ┆           ┆           ┆          ┆   ┆ ---       ┆ ---       ┆ ---       ┆ bool      │\n",
       "│           ┆           ┆           ┆          ┆   ┆ f64       ┆ f64       ┆ f64       ┆           │\n",
       "╞═══════════╪═══════════╪═══════════╪══════════╪═══╪═══════════╪═══════════╪═══════════╪═══════════╡\n",
       "│ J103438.2 ┆ 158.65954 ┆ -0.85268  ┆ 0.073783 ┆ … ┆ 0.676471  ┆ 0.742857  ┆ 152.78136 ┆ false     │\n",
       "│ 8-005109. ┆ 4         ┆           ┆          ┆   ┆           ┆           ┆ 8         ┆           │\n",
       "│ 6         ┆           ┆           ┆          ┆   ┆           ┆           ┆           ┆           │\n",
       "│ J103542.8 ┆ 158.92843 ┆ -0.752741 ┆ 0.115605 ┆ … ┆ 0.69697   ┆ 0.680851  ┆ 152.21457 ┆ false     │\n",
       "│ 2-004509. ┆ 2         ┆           ┆          ┆   ┆           ┆           ┆ 4         ┆           │\n",
       "│ 8         ┆           ┆           ┆          ┆   ┆           ┆           ┆           ┆           │\n",
       "│ J103501.6 ┆ 158.75709 ┆ -0.831234 ┆ 0.118851 ┆ … ┆ 0.941176  ┆ 0.869565  ┆ 160.18357 ┆ false     │\n",
       "│ 9-004952. ┆ 9         ┆           ┆          ┆   ┆           ┆           ┆ 6         ┆           │\n",
       "│ 4         ┆           ┆           ┆          ┆   ┆           ┆           ┆           ┆           │\n",
       "│ J103649.8 ┆ 159.20782 ┆ -0.63147  ┆ 0.06356  ┆ … ┆ 0.911111  ┆ 0.885714  ┆ 158.02642 ┆ false     │\n",
       "│ 7-003753. ┆           ┆           ┆          ┆   ┆           ┆           ┆           ┆           │\n",
       "│ 2         ┆           ┆           ┆          ┆   ┆           ┆           ┆           ┆           │\n",
       "│ J103647.2 ┆ 159.19672 ┆ -0.682358 ┆ 0.095834 ┆ … ┆ 0.847826  ┆ 0.785714  ┆ 157.30749 ┆ false     │\n",
       "│ 1-004056. ┆ 2         ┆           ┆          ┆   ┆           ┆           ┆ 2         ┆           │\n",
       "│ 4         ┆           ┆           ┆          ┆   ┆           ┆           ┆           ┆           │\n",
       "└───────────┴───────────┴───────────┴──────────┴───┴───────────┴───────────┴───────────┴───────────┘"
      ]
     },
     "execution_count": 19,
     "metadata": {},
     "output_type": "execute_result"
    }
   ],
   "source": [
    "volunteers = pl.scan_parquet(\"dataset/gz_decals_volunteers_1_and_2.parquet\")\n",
    "volunteers.head().collect()"
   ]
  },
  {
   "cell_type": "code",
   "execution_count": 20,
   "metadata": {},
   "outputs": [
    {
     "data": {
      "text/html": [
       "<div><style>\n",
       ".dataframe > thead > tr,\n",
       ".dataframe > tbody > tr {\n",
       "  text-align: right;\n",
       "  white-space: pre-wrap;\n",
       "}\n",
       "</style>\n",
       "<small>shape: (0, 115)</small><table border=\"1\" class=\"dataframe\"><thead><tr><th>iauname</th><th>ra</th><th>dec</th><th>redshift</th><th>elpetro_absmag_r</th><th>sersic_nmgy_r</th><th>petro_th50</th><th>petro_th90</th><th>petro_theta</th><th>upload_group</th><th>active_learning_on</th><th>in_gzd_c</th><th>data_release</th><th>smooth-or-featured_total-votes</th><th>smooth-or-featured_smooth</th><th>smooth-or-featured_smooth_fraction</th><th>smooth-or-featured_smooth_debiased</th><th>smooth-or-featured_featured-or-disk</th><th>smooth-or-featured_featured-or-disk_fraction</th><th>smooth-or-featured_featured-or-disk_debiased</th><th>smooth-or-featured_artifact</th><th>smooth-or-featured_artifact_fraction</th><th>smooth-or-featured_artifact_debiased</th><th>how-rounded_total-votes</th><th>how-rounded_completely</th><th>how-rounded_completely_fraction</th><th>how-rounded_completely_debiased</th><th>how-rounded_in-between</th><th>how-rounded_in-between_fraction</th><th>how-rounded_in-between_debiased</th><th>how-rounded_cigar-shaped</th><th>how-rounded_cigar-shaped_fraction</th><th>how-rounded_cigar-shaped_debiased</th><th>disk-edge-on_total-votes</th><th>disk-edge-on_yes</th><th>disk-edge-on_yes_fraction</th><th>disk-edge-on_yes_debiased</th><th>&hellip;</th><th>spiral-arm-count_2</th><th>spiral-arm-count_2_fraction</th><th>spiral-arm-count_2_debiased</th><th>spiral-arm-count_3</th><th>spiral-arm-count_3_fraction</th><th>spiral-arm-count_3_debiased</th><th>spiral-arm-count_4</th><th>spiral-arm-count_4_fraction</th><th>spiral-arm-count_4_debiased</th><th>spiral-arm-count_more-than-4</th><th>spiral-arm-count_more-than-4_fraction</th><th>spiral-arm-count_more-than-4_debiased</th><th>bulge-size_total-votes</th><th>bulge-size_none</th><th>bulge-size_none_fraction</th><th>bulge-size_none_debiased</th><th>bulge-size_obvious</th><th>bulge-size_obvious_fraction</th><th>bulge-size_obvious_debiased</th><th>bulge-size_dominant</th><th>bulge-size_dominant_fraction</th><th>bulge-size_dominant_debiased</th><th>merging_total-votes</th><th>merging_merger</th><th>merging_merger_fraction</th><th>merging_merger_debiased</th><th>merging_tidal-debris</th><th>merging_tidal-debris_fraction</th><th>merging_tidal-debris_debiased</th><th>merging_both</th><th>merging_both_fraction</th><th>merging_both_debiased</th><th>merging_neither</th><th>merging_neither_fraction</th><th>merging_neither_debiased</th><th>wrong_size_statistic</th><th>wrong_size_warning</th></tr><tr><td>str</td><td>f64</td><td>f64</td><td>f32</td><td>f32</td><td>f32</td><td>f32</td><td>f32</td><td>f32</td><td>str</td><td>bool</td><td>bool</td><td>str</td><td>i64</td><td>i64</td><td>f64</td><td>f64</td><td>i64</td><td>f64</td><td>f64</td><td>i64</td><td>f64</td><td>f64</td><td>i64</td><td>i64</td><td>f64</td><td>f64</td><td>i64</td><td>f64</td><td>f64</td><td>i64</td><td>f64</td><td>f64</td><td>i64</td><td>i64</td><td>f64</td><td>f64</td><td>&hellip;</td><td>i64</td><td>f64</td><td>f64</td><td>i64</td><td>f64</td><td>f64</td><td>i64</td><td>f64</td><td>f64</td><td>i64</td><td>f64</td><td>f64</td><td>i64</td><td>i64</td><td>f64</td><td>f64</td><td>i64</td><td>f64</td><td>f64</td><td>i64</td><td>f64</td><td>f64</td><td>i64</td><td>i64</td><td>f64</td><td>f64</td><td>i64</td><td>f64</td><td>f64</td><td>i64</td><td>f64</td><td>f64</td><td>i64</td><td>f64</td><td>f64</td><td>f64</td><td>bool</td></tr></thead><tbody></tbody></table></div>"
      ],
      "text/plain": [
       "shape: (0, 115)\n",
       "┌─────────┬─────┬─────┬──────────┬───┬───────────────┬───────────────┬──────────────┬──────────────┐\n",
       "│ iauname ┆ ra  ┆ dec ┆ redshift ┆ … ┆ merging_neith ┆ merging_neith ┆ wrong_size_s ┆ wrong_size_w │\n",
       "│ ---     ┆ --- ┆ --- ┆ ---      ┆   ┆ er_fraction   ┆ er_debiased   ┆ tatistic     ┆ arning       │\n",
       "│ str     ┆ f64 ┆ f64 ┆ f32      ┆   ┆ ---           ┆ ---           ┆ ---          ┆ ---          │\n",
       "│         ┆     ┆     ┆          ┆   ┆ f64           ┆ f64           ┆ f64          ┆ bool         │\n",
       "╞═════════╪═════╪═════╪══════════╪═══╪═══════════════╪═══════════════╪══════════════╪══════════════╡\n",
       "└─────────┴─────┴─────┴──────────┴───┴───────────────┴───────────────┴──────────────┴──────────────┘"
      ]
     },
     "execution_count": 20,
     "metadata": {},
     "output_type": "execute_result"
    }
   ],
   "source": [
    "volunteers.filter(pl.col(\"data_release\") == \"DR5\").head().collect()"
   ]
  },
  {
   "cell_type": "code",
   "execution_count": null,
   "metadata": {},
   "outputs": [
    {
     "name": "stderr",
     "output_type": "stream",
     "text": [
      "/tmp/ipykernel_10263/3019175325.py:15: PerformanceWarning: Determining the column names of a LazyFrame requires resolving its schema, which is a potentially expensive operation. Use `LazyFrame.collect_schema().names()` to get the column names without this warning.\n",
      "  *df.drop(\"image_path\").columns\n"
     ]
    },
    {
     "data": {
      "text/html": [
       "<div><style>\n",
       ".dataframe > thead > tr,\n",
       ".dataframe > tbody > tr {\n",
       "  text-align: right;\n",
       "  white-space: pre-wrap;\n",
       "}\n",
       "</style>\n",
       "<small>shape: (5, 116)</small><table border=\"1\" class=\"dataframe\"><thead><tr><th>image_path</th><th>iauname</th><th>ra</th><th>dec</th><th>redshift</th><th>elpetro_absmag_r</th><th>sersic_nmgy_r</th><th>petro_th50</th><th>petro_th90</th><th>petro_theta</th><th>upload_group</th><th>active_learning_on</th><th>in_gzd_c</th><th>data_release</th><th>smooth-or-featured_total-votes</th><th>smooth-or-featured_smooth</th><th>smooth-or-featured_smooth_fraction</th><th>smooth-or-featured_smooth_debiased</th><th>smooth-or-featured_featured-or-disk</th><th>smooth-or-featured_featured-or-disk_fraction</th><th>smooth-or-featured_featured-or-disk_debiased</th><th>smooth-or-featured_artifact</th><th>smooth-or-featured_artifact_fraction</th><th>smooth-or-featured_artifact_debiased</th><th>how-rounded_total-votes</th><th>how-rounded_completely</th><th>how-rounded_completely_fraction</th><th>how-rounded_completely_debiased</th><th>how-rounded_in-between</th><th>how-rounded_in-between_fraction</th><th>how-rounded_in-between_debiased</th><th>how-rounded_cigar-shaped</th><th>how-rounded_cigar-shaped_fraction</th><th>how-rounded_cigar-shaped_debiased</th><th>disk-edge-on_total-votes</th><th>disk-edge-on_yes</th><th>disk-edge-on_yes_fraction</th><th>&hellip;</th><th>spiral-arm-count_2</th><th>spiral-arm-count_2_fraction</th><th>spiral-arm-count_2_debiased</th><th>spiral-arm-count_3</th><th>spiral-arm-count_3_fraction</th><th>spiral-arm-count_3_debiased</th><th>spiral-arm-count_4</th><th>spiral-arm-count_4_fraction</th><th>spiral-arm-count_4_debiased</th><th>spiral-arm-count_more-than-4</th><th>spiral-arm-count_more-than-4_fraction</th><th>spiral-arm-count_more-than-4_debiased</th><th>bulge-size_total-votes</th><th>bulge-size_none</th><th>bulge-size_none_fraction</th><th>bulge-size_none_debiased</th><th>bulge-size_obvious</th><th>bulge-size_obvious_fraction</th><th>bulge-size_obvious_debiased</th><th>bulge-size_dominant</th><th>bulge-size_dominant_fraction</th><th>bulge-size_dominant_debiased</th><th>merging_total-votes</th><th>merging_merger</th><th>merging_merger_fraction</th><th>merging_merger_debiased</th><th>merging_tidal-debris</th><th>merging_tidal-debris_fraction</th><th>merging_tidal-debris_debiased</th><th>merging_both</th><th>merging_both_fraction</th><th>merging_both_debiased</th><th>merging_neither</th><th>merging_neither_fraction</th><th>merging_neither_debiased</th><th>wrong_size_statistic</th><th>wrong_size_warning</th></tr><tr><td>str</td><td>str</td><td>f64</td><td>f64</td><td>f32</td><td>f32</td><td>f32</td><td>f32</td><td>f32</td><td>f32</td><td>str</td><td>bool</td><td>bool</td><td>str</td><td>i64</td><td>i64</td><td>f64</td><td>f64</td><td>i64</td><td>f64</td><td>f64</td><td>i64</td><td>f64</td><td>f64</td><td>i64</td><td>i64</td><td>f64</td><td>f64</td><td>i64</td><td>f64</td><td>f64</td><td>i64</td><td>f64</td><td>f64</td><td>i64</td><td>i64</td><td>f64</td><td>&hellip;</td><td>i64</td><td>f64</td><td>f64</td><td>i64</td><td>f64</td><td>f64</td><td>i64</td><td>f64</td><td>f64</td><td>i64</td><td>f64</td><td>f64</td><td>i64</td><td>i64</td><td>f64</td><td>f64</td><td>i64</td><td>f64</td><td>f64</td><td>i64</td><td>f64</td><td>f64</td><td>i64</td><td>i64</td><td>f64</td><td>f64</td><td>i64</td><td>f64</td><td>f64</td><td>i64</td><td>f64</td><td>f64</td><td>i64</td><td>f64</td><td>f64</td><td>f64</td><td>bool</td></tr></thead><tbody><tr><td>&quot;J000/J000309.06-004508.1.png&quot;</td><td>&quot;J000309.06-004508.1&quot;</td><td>0.787756</td><td>-0.752299</td><td>0.029348</td><td>-17.539028</td><td>123.711609</td><td>2.724064</td><td>7.544131</td><td>5.538606</td><td>&quot;pre_active&quot;</td><td>false</td><td>true</td><td>&quot;DR1&quot;</td><td>39</td><td>29</td><td>0.74359</td><td>0.656996</td><td>7</td><td>0.179487</td><td>0.210526</td><td>3</td><td>0.076923</td><td>0.082545</td><td>29</td><td>4</td><td>0.137931</td><td>0.137931</td><td>24</td><td>0.827586</td><td>0.783784</td><td>1</td><td>0.034483</td><td>0.045455</td><td>7</td><td>2</td><td>0.285714</td><td>&hellip;</td><td>4</td><td>1.0</td><td>1.0</td><td>0</td><td>0.0</td><td>0.0</td><td>0</td><td>0.0</td><td>0.0</td><td>0</td><td>0.0</td><td>0.0</td><td>5</td><td>3</td><td>0.6</td><td>0.573606</td><td>1</td><td>0.2</td><td>0.107143</td><td>1</td><td>0.2</td><td>0.157895</td><td>36</td><td>0</td><td>0.0</td><td>0.0</td><td>5</td><td>0.138889</td><td>0.21875</td><td>2</td><td>0.055556</td><td>0.064516</td><td>29</td><td>0.805556</td><td>0.711538</td><td>153.626286</td><td>false</td></tr><tr><td>&quot;J000/J000256.55-004733.7.png&quot;</td><td>&quot;J000256.55-004733.7&quot;</td><td>0.735658</td><td>-0.79273</td><td>0.12686</td><td>-21.441341</td><td>272.491425</td><td>3.62516</td><td>9.373409</td><td>8.043182</td><td>&quot;pre_active&quot;</td><td>false</td><td>true</td><td>&quot;DR1&quot;</td><td>49</td><td>10</td><td>0.204082</td><td>0.033096</td><td>36</td><td>0.734694</td><td>0.935484</td><td>3</td><td>0.061224</td><td>0.06743</td><td>10</td><td>5</td><td>0.5</td><td>0.423077</td><td>5</td><td>0.5</td><td>0.566667</td><td>0</td><td>0.0</td><td>0.0</td><td>36</td><td>1</td><td>0.027778</td><td>&hellip;</td><td>12</td><td>0.75</td><td>0.399694</td><td>1</td><td>0.0625</td><td>0.168597</td><td>0</td><td>0.0</td><td>0.0</td><td>2</td><td>0.125</td><td>0.36</td><td>35</td><td>0</td><td>0.0</td><td>0.0</td><td>24</td><td>0.685714</td><td>0.68</td><td>11</td><td>0.314286</td><td>0.321429</td><td>46</td><td>3</td><td>0.065217</td><td>0.068971</td><td>6</td><td>0.130435</td><td>0.159091</td><td>2</td><td>0.043478</td><td>0.066667</td><td>35</td><td>0.76087</td><td>0.767442</td><td>157.019848</td><td>false</td></tr><tr><td>&quot;J000/J000358.11-000244.3.png&quot;</td><td>&quot;J000358.11-000244.3&quot;</td><td>0.992144</td><td>-0.04564</td><td>0.090954</td><td>-20.715004</td><td>226.361069</td><td>4.548683</td><td>11.156693</td><td>9.522999</td><td>&quot;pre_active&quot;</td><td>false</td><td>true</td><td>&quot;DR1&quot;</td><td>54</td><td>9</td><td>0.166667</td><td>0.040515</td><td>42</td><td>0.777778</td><td>0.914894</td><td>3</td><td>0.055556</td><td>0.064092</td><td>9</td><td>6</td><td>0.666667</td><td>0.566667</td><td>3</td><td>0.333333</td><td>0.368421</td><td>0</td><td>0.0</td><td>0.0</td><td>42</td><td>1</td><td>0.02381</td><td>&hellip;</td><td>18</td><td>0.486486</td><td>0.207893</td><td>7</td><td>0.189189</td><td>0.275258</td><td>2</td><td>0.054054</td><td>0.164479</td><td>0</td><td>0.0</td><td>0.0</td><td>41</td><td>2</td><td>0.04878</td><td>0.011772</td><td>36</td><td>0.878049</td><td>0.861111</td><td>3</td><td>0.073171</td><td>0.097561</td><td>51</td><td>0</td><td>0.0</td><td>0.0</td><td>15</td><td>0.294118</td><td>0.257143</td><td>4</td><td>0.078431</td><td>0.117647</td><td>32</td><td>0.627451</td><td>0.606061</td><td>157.535338</td><td>false</td></tr><tr><td>&quot;J000/J000427.37-003932.1.png&quot;</td><td>&quot;J000427.37-003932.1&quot;</td><td>1.114083</td><td>-0.658916</td><td>0.139308</td><td>-20.835133</td><td>83.305145</td><td>1.656927</td><td>5.593759</td><td>3.932198</td><td>&quot;pre_active&quot;</td><td>false</td><td>false</td><td>&quot;DR1&quot;</td><td>45</td><td>37</td><td>0.822222</td><td>0.311689</td><td>2</td><td>0.044444</td><td>0.65625</td><td>6</td><td>0.133333</td><td>0.162793</td><td>37</td><td>37</td><td>1.0</td><td>1.0</td><td>0</td><td>0.0</td><td>0.0</td><td>0</td><td>0.0</td><td>0.0</td><td>2</td><td>0</td><td>0.0</td><td>&hellip;</td><td>0</td><td>0.0</td><td>0.0</td><td>0</td><td>0.0</td><td>0.0</td><td>0</td><td>0.0</td><td>0.0</td><td>0</td><td>0.0</td><td>0.0</td><td>2</td><td>0</td><td>0.0</td><td>0.0</td><td>2</td><td>1.0</td><td>1.0</td><td>0</td><td>0.0</td><td>0.0</td><td>39</td><td>3</td><td>0.076923</td><td>0.079406</td><td>5</td><td>0.128205</td><td>0.21875</td><td>1</td><td>0.025641</td><td>0.06383</td><td>30</td><td>0.769231</td><td>0.516129</td><td>151.36878</td><td>false</td></tr><tr><td>&quot;J000/J000406.01-001333.4.png&quot;</td><td>&quot;J000406.01-001333.4&quot;</td><td>1.025059</td><td>-0.225926</td><td>0.076614</td><td>-20.885839</td><td>383.808716</td><td>2.919798</td><td>7.792477</td><td>6.016788</td><td>&quot;pre_active&quot;</td><td>false</td><td>false</td><td>&quot;DR1&quot;</td><td>54</td><td>1</td><td>0.018519</td><td>0.000169</td><td>48</td><td>0.888889</td><td>1.0</td><td>5</td><td>0.092593</td><td>0.111383</td><td>1</td><td>1</td><td>1.0</td><td>1.0</td><td>0</td><td>0.0</td><td>0.0</td><td>0</td><td>0.0</td><td>0.0</td><td>48</td><td>9</td><td>0.1875</td><td>&hellip;</td><td>39</td><td>1.0</td><td>1.0</td><td>0</td><td>0.0</td><td>0.0</td><td>0</td><td>0.0</td><td>0.0</td><td>0</td><td>0.0</td><td>0.0</td><td>39</td><td>1</td><td>0.025641</td><td>0.036082</td><td>33</td><td>0.846154</td><td>0.807692</td><td>5</td><td>0.128205</td><td>0.133333</td><td>49</td><td>0</td><td>0.0</td><td>0.0</td><td>9</td><td>0.183673</td><td>0.222222</td><td>3</td><td>0.061224</td><td>0.068966</td><td>37</td><td>0.755102</td><td>0.702703</td><td>150.781614</td><td>false</td></tr></tbody></table></div>"
      ],
      "text/plain": [
       "shape: (5, 116)\n",
       "┌───────────┬───────────┬──────────┬───────────┬───┬───────────┬───────────┬───────────┬───────────┐\n",
       "│ image_pat ┆ iauname   ┆ ra       ┆ dec       ┆ … ┆ merging_n ┆ merging_n ┆ wrong_siz ┆ wrong_siz │\n",
       "│ h         ┆ ---       ┆ ---      ┆ ---       ┆   ┆ either_fr ┆ either_de ┆ e_statist ┆ e_warning │\n",
       "│ ---       ┆ str       ┆ f64      ┆ f64       ┆   ┆ action    ┆ biased    ┆ ic        ┆ ---       │\n",
       "│ str       ┆           ┆          ┆           ┆   ┆ ---       ┆ ---       ┆ ---       ┆ bool      │\n",
       "│           ┆           ┆          ┆           ┆   ┆ f64       ┆ f64       ┆ f64       ┆           │\n",
       "╞═══════════╪═══════════╪══════════╪═══════════╪═══╪═══════════╪═══════════╪═══════════╪═══════════╡\n",
       "│ J000/J000 ┆ J000309.0 ┆ 0.787756 ┆ -0.752299 ┆ … ┆ 0.805556  ┆ 0.711538  ┆ 153.62628 ┆ false     │\n",
       "│ 309.06-00 ┆ 6-004508. ┆          ┆           ┆   ┆           ┆           ┆ 6         ┆           │\n",
       "│ 4508.1.pn ┆ 1         ┆          ┆           ┆   ┆           ┆           ┆           ┆           │\n",
       "│ g         ┆           ┆          ┆           ┆   ┆           ┆           ┆           ┆           │\n",
       "│ J000/J000 ┆ J000256.5 ┆ 0.735658 ┆ -0.79273  ┆ … ┆ 0.76087   ┆ 0.767442  ┆ 157.01984 ┆ false     │\n",
       "│ 256.55-00 ┆ 5-004733. ┆          ┆           ┆   ┆           ┆           ┆ 8         ┆           │\n",
       "│ 4733.7.pn ┆ 7         ┆          ┆           ┆   ┆           ┆           ┆           ┆           │\n",
       "│ g         ┆           ┆          ┆           ┆   ┆           ┆           ┆           ┆           │\n",
       "│ J000/J000 ┆ J000358.1 ┆ 0.992144 ┆ -0.04564  ┆ … ┆ 0.627451  ┆ 0.606061  ┆ 157.53533 ┆ false     │\n",
       "│ 358.11-00 ┆ 1-000244. ┆          ┆           ┆   ┆           ┆           ┆ 8         ┆           │\n",
       "│ 0244.3.pn ┆ 3         ┆          ┆           ┆   ┆           ┆           ┆           ┆           │\n",
       "│ g         ┆           ┆          ┆           ┆   ┆           ┆           ┆           ┆           │\n",
       "│ J000/J000 ┆ J000427.3 ┆ 1.114083 ┆ -0.658916 ┆ … ┆ 0.769231  ┆ 0.516129  ┆ 151.36878 ┆ false     │\n",
       "│ 427.37-00 ┆ 7-003932. ┆          ┆           ┆   ┆           ┆           ┆           ┆           │\n",
       "│ 3932.1.pn ┆ 1         ┆          ┆           ┆   ┆           ┆           ┆           ┆           │\n",
       "│ g         ┆           ┆          ┆           ┆   ┆           ┆           ┆           ┆           │\n",
       "│ J000/J000 ┆ J000406.0 ┆ 1.025059 ┆ -0.225926 ┆ … ┆ 0.755102  ┆ 0.702703  ┆ 150.78161 ┆ false     │\n",
       "│ 406.01-00 ┆ 1-001333. ┆          ┆           ┆   ┆           ┆           ┆ 4         ┆           │\n",
       "│ 1333.4.pn ┆ 4         ┆          ┆           ┆   ┆           ┆           ┆           ┆           │\n",
       "│ g         ┆           ┆          ┆           ┆   ┆           ┆           ┆           ┆           │\n",
       "└───────────┴───────────┴──────────┴───────────┴───┴───────────┴───────────┴───────────┴───────────┘"
      ]
     },
     "execution_count": 21,
     "metadata": {},
     "output_type": "execute_result"
    }
   ],
   "source": [
    "def add_image_path(df: pl.LazyFrame, dataset_dir: str = \"./dataset\") -> pl.LazyFrame:\n",
    "    # check if file exists\n",
    "    def file_exists(path: str) -> bool:\n",
    "        return os.path.exists(os.path.join(dataset_dir, path))\n",
    "\n",
    "    df = df.with_columns(\n",
    "        (pl.col(\"iauname\").str.slice(0, 4) + \"/\" + pl.col(\"iauname\") + \".png\").alias(\n",
    "            \"image_path\"\n",
    "        ),\n",
    "    ).filter(pl.col(\"image_path\").map_elements(file_exists, return_dtype=pl.Boolean))\n",
    "\n",
    "    # reorder columns to have 'image_path' first\n",
    "    df = df.select(\n",
    "        pl.col(\"image_path\"),\n",
    "        *df.drop(\"image_path\").collect_schema().names()\n",
    "    )\n",
    "\n",
    "    return df\n",
    "\n",
    "\n",
    "volunteers = add_image_path(volunteers)\n",
    "volunteers.head().collect()"
   ]
  },
  {
   "cell_type": "code",
   "execution_count": null,
   "metadata": {},
   "outputs": [],
   "source": []
  }
 ],
 "metadata": {
  "kernelspec": {
   "display_name": "AppML25",
   "language": "python",
   "name": "python3"
  },
  "language_info": {
   "codemirror_mode": {
    "name": "ipython",
    "version": 3
   },
   "file_extension": ".py",
   "mimetype": "text/x-python",
   "name": "python",
   "nbconvert_exporter": "python",
   "pygments_lexer": "ipython3",
   "version": "3.13.3"
  }
 },
 "nbformat": 4,
 "nbformat_minor": 2
}
