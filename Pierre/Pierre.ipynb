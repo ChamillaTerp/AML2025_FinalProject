{
 "cells": [
  {
   "cell_type": "code",
   "execution_count": 24,
   "metadata": {},
   "outputs": [],
   "source": [
    "import polars as pl\n",
    "import polars.selectors as cs\n",
    "import os"
   ]
  },
  {
   "cell_type": "code",
   "execution_count": 28,
   "metadata": {},
   "outputs": [
    {
     "data": {
      "text/html": [
       "<div><style>\n",
       ".dataframe > thead > tr,\n",
       ".dataframe > tbody > tr {\n",
       "  text-align: right;\n",
       "  white-space: pre-wrap;\n",
       "}\n",
       "</style>\n",
       "<small>shape: (5, 127)</small><table border=\"1\" class=\"dataframe\"><thead><tr><th>iauname</th><th>ra</th><th>dec</th><th>redshift</th><th>elpetro_absmag_r</th><th>sersic_nmgy_r</th><th>petro_th50</th><th>petro_th90</th><th>petro_theta</th><th>upload_group</th><th>active_learning_on</th><th>in_gzd_ab</th><th>png_loc</th><th>smooth-or-featured_total-votes</th><th>smooth-or-featured_smooth</th><th>smooth-or-featured_smooth_fraction</th><th>smooth-or-featured_smooth_debiased</th><th>smooth-or-featured_featured-or-disk</th><th>smooth-or-featured_featured-or-disk_fraction</th><th>smooth-or-featured_featured-or-disk_debiased</th><th>smooth-or-featured_artifact</th><th>smooth-or-featured_artifact_fraction</th><th>smooth-or-featured_artifact_debiased</th><th>disk-edge-on_total-votes</th><th>disk-edge-on_yes</th><th>disk-edge-on_yes_fraction</th><th>disk-edge-on_yes_debiased</th><th>disk-edge-on_no</th><th>disk-edge-on_no_fraction</th><th>disk-edge-on_no_debiased</th><th>has-spiral-arms_total-votes</th><th>has-spiral-arms_yes</th><th>has-spiral-arms_yes_fraction</th><th>has-spiral-arms_yes_debiased</th><th>has-spiral-arms_no</th><th>has-spiral-arms_no_fraction</th><th>has-spiral-arms_no_debiased</th><th>&hellip;</th><th>spiral-winding_loose</th><th>spiral-winding_loose_fraction</th><th>spiral-winding_loose_debiased</th><th>spiral-arm-count_total-votes</th><th>spiral-arm-count_1</th><th>spiral-arm-count_1_fraction</th><th>spiral-arm-count_1_debiased</th><th>spiral-arm-count_2</th><th>spiral-arm-count_2_fraction</th><th>spiral-arm-count_2_debiased</th><th>spiral-arm-count_3</th><th>spiral-arm-count_3_fraction</th><th>spiral-arm-count_3_debiased</th><th>spiral-arm-count_4</th><th>spiral-arm-count_4_fraction</th><th>spiral-arm-count_4_debiased</th><th>spiral-arm-count_more-than-4</th><th>spiral-arm-count_more-than-4_fraction</th><th>spiral-arm-count_more-than-4_debiased</th><th>spiral-arm-count_cant-tell</th><th>spiral-arm-count_cant-tell_fraction</th><th>spiral-arm-count_cant-tell_debiased</th><th>merging_total-votes</th><th>merging_none</th><th>merging_none_fraction</th><th>merging_none_debiased</th><th>merging_minor-disturbance</th><th>merging_minor-disturbance_fraction</th><th>merging_minor-disturbance_debiased</th><th>merging_major-disturbance</th><th>merging_major-disturbance_fraction</th><th>merging_major-disturbance_debiased</th><th>merging_merger</th><th>merging_merger_fraction</th><th>merging_merger_debiased</th><th>wrong_size_statistic</th><th>wrong_size_warning</th></tr><tr><td>str</td><td>f64</td><td>f64</td><td>f32</td><td>f32</td><td>f32</td><td>f32</td><td>f32</td><td>f32</td><td>str</td><td>bool</td><td>bool</td><td>str</td><td>i64</td><td>i64</td><td>f64</td><td>f64</td><td>i64</td><td>f64</td><td>f64</td><td>i64</td><td>f64</td><td>f64</td><td>i64</td><td>i64</td><td>f64</td><td>f64</td><td>i64</td><td>f64</td><td>f64</td><td>i64</td><td>i64</td><td>f64</td><td>f64</td><td>i64</td><td>f64</td><td>f64</td><td>&hellip;</td><td>i64</td><td>f64</td><td>f64</td><td>i64</td><td>i64</td><td>f64</td><td>f64</td><td>i64</td><td>f64</td><td>f64</td><td>i64</td><td>f64</td><td>f64</td><td>i64</td><td>f64</td><td>f64</td><td>i64</td><td>f64</td><td>f64</td><td>i64</td><td>f64</td><td>f64</td><td>i64</td><td>i64</td><td>f64</td><td>f64</td><td>i64</td><td>f64</td><td>f64</td><td>i64</td><td>f64</td><td>f64</td><td>i64</td><td>f64</td><td>f64</td><td>f64</td><td>bool</td></tr></thead><tbody><tr><td>&quot;J112953.88-000427.4&quot;</td><td>172.474526</td><td>-0.074281</td><td>0.124142</td><td>-21.253342</td><td>167.262878</td><td>1.835066</td><td>5.414066</td><td>4.202472</td><td>&quot;pre_active&quot;</td><td>false</td><td>true</td><td>&quot;dr5/J112/J112953.88-000427.4.p…</td><td>84</td><td>57</td><td>0.678571</td><td>0.102564</td><td>23</td><td>0.27381</td><td>0.916667</td><td>4</td><td>0.047619</td><td>0.025742</td><td>23</td><td>7</td><td>0.304348</td><td>0.04878</td><td>16</td><td>0.695652</td><td>0.805502</td><td>16</td><td>1</td><td>0.0625</td><td>0.820513</td><td>15</td><td>0.9375</td><td>0.108171</td><td>&hellip;</td><td>0</td><td>0.0</td><td>0.0</td><td>1</td><td>0</td><td>0.0</td><td>0.0</td><td>0</td><td>0.0</td><td>0.0</td><td>0</td><td>0.0</td><td>0.0</td><td>0</td><td>0.0</td><td>0.0</td><td>0</td><td>0.0</td><td>0.0</td><td>1</td><td>1.0</td><td>1.0</td><td>80</td><td>67</td><td>0.8375</td><td>0.772727</td><td>8</td><td>0.1</td><td>0.127708</td><td>5</td><td>0.0625</td><td>0.076923</td><td>0</td><td>0.0</td><td>0.0</td><td>133.592684</td><td>false</td></tr><tr><td>&quot;J104325.29+190335.0&quot;</td><td>160.856533</td><td>19.060441</td><td>0.049088</td><td>-21.77541</td><td>2941.729248</td><td>4.405412</td><td>14.320828</td><td>10.757237</td><td>&quot;targeted&quot;</td><td>false</td><td>false</td><td>&quot;dr5/J104/J104325.29+190335.0.p…</td><td>37</td><td>33</td><td>0.891892</td><td>0.857143</td><td>2</td><td>0.054054</td><td>0.038462</td><td>2</td><td>0.054054</td><td>0.022166</td><td>2</td><td>0</td><td>0.0</td><td>0.0</td><td>2</td><td>1.0</td><td>1.0</td><td>2</td><td>0</td><td>0.0</td><td>0.0</td><td>2</td><td>1.0</td><td>1.0</td><td>&hellip;</td><td>0</td><td>null</td><td>0.0</td><td>0</td><td>0</td><td>null</td><td>0.0</td><td>0</td><td>null</td><td>0.0</td><td>0</td><td>null</td><td>0.0</td><td>0</td><td>null</td><td>0.0</td><td>0</td><td>null</td><td>0.0</td><td>0</td><td>null</td><td>0.0</td><td>35</td><td>0</td><td>0.0</td><td>0.0</td><td>0</td><td>0.0</td><td>0.0</td><td>0</td><td>0.0</td><td>0.0</td><td>2</td><td>0.057143</td><td>0.060757</td><td>132.443129</td><td>false</td></tr><tr><td>&quot;J104629.54+115415.1&quot;</td><td>161.623135</td><td>11.904197</td><td>0.092906</td><td>-19.947397</td><td>125.076324</td><td>4.71987</td><td>13.139816</td><td>9.726173</td><td>&quot;active_baseline&quot;</td><td>false</td><td>false</td><td>&quot;dr5/J104/J104629.54+115415.1.p…</td><td>5</td><td>1</td><td>0.2</td><td>null</td><td>4</td><td>0.8</td><td>null</td><td>0</td><td>0.0</td><td>null</td><td>4</td><td>0</td><td>0.0</td><td>null</td><td>4</td><td>1.0</td><td>null</td><td>4</td><td>4</td><td>1.0</td><td>null</td><td>0</td><td>0.0</td><td>null</td><td>&hellip;</td><td>1</td><td>0.25</td><td>null</td><td>4</td><td>0</td><td>0.0</td><td>null</td><td>4</td><td>1.0</td><td>null</td><td>0</td><td>0.0</td><td>null</td><td>0</td><td>0.0</td><td>null</td><td>0</td><td>0.0</td><td>null</td><td>0</td><td>0.0</td><td>null</td><td>5</td><td>4</td><td>0.8</td><td>null</td><td>1</td><td>0.2</td><td>null</td><td>0</td><td>0.0</td><td>null</td><td>0</td><td>0.0</td><td>null</td><td>156.336302</td><td>false</td></tr><tr><td>&quot;J082950.68+125621.8&quot;</td><td>127.46119</td><td>12.939386</td><td>0.066619</td><td>-19.800629</td><td>173.592026</td><td>2.929065</td><td>7.224961</td><td>6.528331</td><td>&quot;active_baseline&quot;</td><td>false</td><td>false</td><td>&quot;dr5/J082/J082950.68+125621.8.p…</td><td>8</td><td>2</td><td>0.25</td><td>null</td><td>6</td><td>0.75</td><td>null</td><td>0</td><td>0.0</td><td>null</td><td>6</td><td>6</td><td>1.0</td><td>null</td><td>0</td><td>0.0</td><td>null</td><td>0</td><td>0</td><td>null</td><td>null</td><td>0</td><td>null</td><td>null</td><td>&hellip;</td><td>0</td><td>null</td><td>null</td><td>0</td><td>0</td><td>null</td><td>null</td><td>0</td><td>null</td><td>null</td><td>0</td><td>null</td><td>null</td><td>0</td><td>null</td><td>null</td><td>0</td><td>null</td><td>null</td><td>0</td><td>null</td><td>null</td><td>8</td><td>7</td><td>0.875</td><td>null</td><td>1</td><td>0.125</td><td>null</td><td>0</td><td>0.0</td><td>null</td><td>0</td><td>0.0</td><td>null</td><td>155.386379</td><td>false</td></tr><tr><td>&quot;J122056.00-015022.0&quot;</td><td>185.233342</td><td>-1.83934</td><td>0.070042</td><td>-19.013256</td><td>88.826881</td><td>2.521897</td><td>6.496888</td><td>5.054409</td><td>&quot;active_baseline&quot;</td><td>false</td><td>false</td><td>&quot;dr5/J122/J122056.00-015022.0.p…</td><td>5</td><td>2</td><td>0.4</td><td>null</td><td>3</td><td>0.6</td><td>null</td><td>0</td><td>0.0</td><td>null</td><td>3</td><td>0</td><td>0.0</td><td>null</td><td>3</td><td>1.0</td><td>null</td><td>3</td><td>2</td><td>0.666667</td><td>null</td><td>1</td><td>0.333333</td><td>null</td><td>&hellip;</td><td>1</td><td>0.5</td><td>null</td><td>2</td><td>0</td><td>0.0</td><td>null</td><td>2</td><td>1.0</td><td>null</td><td>0</td><td>0.0</td><td>null</td><td>0</td><td>0.0</td><td>null</td><td>0</td><td>0.0</td><td>null</td><td>0</td><td>0.0</td><td>null</td><td>5</td><td>5</td><td>1.0</td><td>null</td><td>0</td><td>0.0</td><td>null</td><td>0</td><td>0.0</td><td>null</td><td>0</td><td>0.0</td><td>null</td><td>143.735491</td><td>false</td></tr></tbody></table></div>"
      ],
      "text/plain": [
       "shape: (5, 127)\n",
       "┌───────────┬───────────┬───────────┬──────────┬───┬───────────┬───────────┬───────────┬───────────┐\n",
       "│ iauname   ┆ ra        ┆ dec       ┆ redshift ┆ … ┆ merging_m ┆ merging_m ┆ wrong_siz ┆ wrong_siz │\n",
       "│ ---       ┆ ---       ┆ ---       ┆ ---      ┆   ┆ erger_fra ┆ erger_deb ┆ e_statist ┆ e_warning │\n",
       "│ str       ┆ f64       ┆ f64       ┆ f32      ┆   ┆ ction     ┆ iased     ┆ ic        ┆ ---       │\n",
       "│           ┆           ┆           ┆          ┆   ┆ ---       ┆ ---       ┆ ---       ┆ bool      │\n",
       "│           ┆           ┆           ┆          ┆   ┆ f64       ┆ f64       ┆ f64       ┆           │\n",
       "╞═══════════╪═══════════╪═══════════╪══════════╪═══╪═══════════╪═══════════╪═══════════╪═══════════╡\n",
       "│ J112953.8 ┆ 172.47452 ┆ -0.074281 ┆ 0.124142 ┆ … ┆ 0.0       ┆ 0.0       ┆ 133.59268 ┆ false     │\n",
       "│ 8-000427. ┆ 6         ┆           ┆          ┆   ┆           ┆           ┆ 4         ┆           │\n",
       "│ 4         ┆           ┆           ┆          ┆   ┆           ┆           ┆           ┆           │\n",
       "│ J104325.2 ┆ 160.85653 ┆ 19.060441 ┆ 0.049088 ┆ … ┆ 0.057143  ┆ 0.060757  ┆ 132.44312 ┆ false     │\n",
       "│ 9+190335. ┆ 3         ┆           ┆          ┆   ┆           ┆           ┆ 9         ┆           │\n",
       "│ 0         ┆           ┆           ┆          ┆   ┆           ┆           ┆           ┆           │\n",
       "│ J104629.5 ┆ 161.62313 ┆ 11.904197 ┆ 0.092906 ┆ … ┆ 0.0       ┆ null      ┆ 156.33630 ┆ false     │\n",
       "│ 4+115415. ┆ 5         ┆           ┆          ┆   ┆           ┆           ┆ 2         ┆           │\n",
       "│ 1         ┆           ┆           ┆          ┆   ┆           ┆           ┆           ┆           │\n",
       "│ J082950.6 ┆ 127.46119 ┆ 12.939386 ┆ 0.066619 ┆ … ┆ 0.0       ┆ null      ┆ 155.38637 ┆ false     │\n",
       "│ 8+125621. ┆           ┆           ┆          ┆   ┆           ┆           ┆ 9         ┆           │\n",
       "│ 8         ┆           ┆           ┆          ┆   ┆           ┆           ┆           ┆           │\n",
       "│ J122056.0 ┆ 185.23334 ┆ -1.83934  ┆ 0.070042 ┆ … ┆ 0.0       ┆ null      ┆ 143.73549 ┆ false     │\n",
       "│ 0-015022. ┆ 2         ┆           ┆          ┆   ┆           ┆           ┆ 1         ┆           │\n",
       "│ 0         ┆           ┆           ┆          ┆   ┆           ┆           ┆           ┆           │\n",
       "└───────────┴───────────┴───────────┴──────────┴───┴───────────┴───────────┴───────────┴───────────┘"
      ]
     },
     "execution_count": 28,
     "metadata": {},
     "output_type": "execute_result"
    }
   ],
   "source": [
    "volunteers = pl.scan_parquet(\"dataset/gz_decals_volunteers_5.parquet\")\n",
    "volunteers.head().collect()"
   ]
  },
  {
   "cell_type": "code",
   "execution_count": 29,
   "metadata": {},
   "outputs": [
    {
     "data": {
      "text/html": [
       "<div><style>\n",
       ".dataframe > thead > tr,\n",
       ".dataframe > tbody > tr {\n",
       "  text-align: right;\n",
       "  white-space: pre-wrap;\n",
       "}\n",
       "</style>\n",
       "<small>shape: (5, 127)</small><table border=\"1\" class=\"dataframe\"><thead><tr><th>iauname</th><th>image_path</th><th>ra</th><th>dec</th><th>redshift</th><th>elpetro_absmag_r</th><th>sersic_nmgy_r</th><th>petro_th50</th><th>petro_th90</th><th>petro_theta</th><th>upload_group</th><th>active_learning_on</th><th>in_gzd_ab</th><th>smooth-or-featured_total-votes</th><th>smooth-or-featured_smooth</th><th>smooth-or-featured_smooth_fraction</th><th>smooth-or-featured_smooth_debiased</th><th>smooth-or-featured_featured-or-disk</th><th>smooth-or-featured_featured-or-disk_fraction</th><th>smooth-or-featured_featured-or-disk_debiased</th><th>smooth-or-featured_artifact</th><th>smooth-or-featured_artifact_fraction</th><th>smooth-or-featured_artifact_debiased</th><th>disk-edge-on_total-votes</th><th>disk-edge-on_yes</th><th>disk-edge-on_yes_fraction</th><th>disk-edge-on_yes_debiased</th><th>disk-edge-on_no</th><th>disk-edge-on_no_fraction</th><th>disk-edge-on_no_debiased</th><th>has-spiral-arms_total-votes</th><th>has-spiral-arms_yes</th><th>has-spiral-arms_yes_fraction</th><th>has-spiral-arms_yes_debiased</th><th>has-spiral-arms_no</th><th>has-spiral-arms_no_fraction</th><th>has-spiral-arms_no_debiased</th><th>&hellip;</th><th>spiral-winding_loose</th><th>spiral-winding_loose_fraction</th><th>spiral-winding_loose_debiased</th><th>spiral-arm-count_total-votes</th><th>spiral-arm-count_1</th><th>spiral-arm-count_1_fraction</th><th>spiral-arm-count_1_debiased</th><th>spiral-arm-count_2</th><th>spiral-arm-count_2_fraction</th><th>spiral-arm-count_2_debiased</th><th>spiral-arm-count_3</th><th>spiral-arm-count_3_fraction</th><th>spiral-arm-count_3_debiased</th><th>spiral-arm-count_4</th><th>spiral-arm-count_4_fraction</th><th>spiral-arm-count_4_debiased</th><th>spiral-arm-count_more-than-4</th><th>spiral-arm-count_more-than-4_fraction</th><th>spiral-arm-count_more-than-4_debiased</th><th>spiral-arm-count_cant-tell</th><th>spiral-arm-count_cant-tell_fraction</th><th>spiral-arm-count_cant-tell_debiased</th><th>merging_total-votes</th><th>merging_none</th><th>merging_none_fraction</th><th>merging_none_debiased</th><th>merging_minor-disturbance</th><th>merging_minor-disturbance_fraction</th><th>merging_minor-disturbance_debiased</th><th>merging_major-disturbance</th><th>merging_major-disturbance_fraction</th><th>merging_major-disturbance_debiased</th><th>merging_merger</th><th>merging_merger_fraction</th><th>merging_merger_debiased</th><th>wrong_size_statistic</th><th>wrong_size_warning</th></tr><tr><td>str</td><td>str</td><td>f64</td><td>f64</td><td>f32</td><td>f32</td><td>f32</td><td>f32</td><td>f32</td><td>f32</td><td>str</td><td>bool</td><td>bool</td><td>i64</td><td>i64</td><td>f64</td><td>f64</td><td>i64</td><td>f64</td><td>f64</td><td>i64</td><td>f64</td><td>f64</td><td>i64</td><td>i64</td><td>f64</td><td>f64</td><td>i64</td><td>f64</td><td>f64</td><td>i64</td><td>i64</td><td>f64</td><td>f64</td><td>i64</td><td>f64</td><td>f64</td><td>&hellip;</td><td>i64</td><td>f64</td><td>f64</td><td>i64</td><td>i64</td><td>f64</td><td>f64</td><td>i64</td><td>f64</td><td>f64</td><td>i64</td><td>f64</td><td>f64</td><td>i64</td><td>f64</td><td>f64</td><td>i64</td><td>f64</td><td>f64</td><td>i64</td><td>f64</td><td>f64</td><td>i64</td><td>i64</td><td>f64</td><td>f64</td><td>i64</td><td>f64</td><td>f64</td><td>i64</td><td>f64</td><td>f64</td><td>i64</td><td>f64</td><td>f64</td><td>f64</td><td>bool</td></tr></thead><tbody><tr><td>&quot;J095102.66+284526.4&quot;</td><td>&quot;J095/J095102.66+284526.4.png&quot;</td><td>147.761108</td><td>28.757334</td><td>0.115866</td><td>-20.813797</td><td>133.822235</td><td>1.713884</td><td>5.054409</td><td>3.801523</td><td>&quot;active_baseline&quot;</td><td>false</td><td>true</td><td>5</td><td>5</td><td>1.0</td><td>null</td><td>0</td><td>0.0</td><td>null</td><td>0</td><td>0.0</td><td>null</td><td>0</td><td>0</td><td>null</td><td>null</td><td>0</td><td>null</td><td>null</td><td>0</td><td>0</td><td>null</td><td>null</td><td>0</td><td>null</td><td>null</td><td>&hellip;</td><td>0</td><td>null</td><td>null</td><td>0</td><td>0</td><td>null</td><td>null</td><td>0</td><td>null</td><td>null</td><td>0</td><td>null</td><td>null</td><td>0</td><td>null</td><td>null</td><td>0</td><td>null</td><td>null</td><td>0</td><td>null</td><td>null</td><td>5</td><td>4</td><td>0.8</td><td>null</td><td>0</td><td>0.0</td><td>null</td><td>1</td><td>0.2</td><td>null</td><td>0</td><td>0.0</td><td>null</td><td>145.215592</td><td>false</td></tr><tr><td>&quot;J100725.49+120540.1&quot;</td><td>&quot;J100/J100725.49+120540.1.png&quot;</td><td>151.852902</td><td>12.095359</td><td>-0.000057</td><td>-8.749258</td><td>10117.243164</td><td>73.711433</td><td>97.296509</td><td>105.420822</td><td>&quot;active_baseline&quot;</td><td>false</td><td>false</td><td>5</td><td>0</td><td>0.0</td><td>null</td><td>0</td><td>0.0</td><td>null</td><td>5</td><td>1.0</td><td>null</td><td>0</td><td>0</td><td>null</td><td>null</td><td>0</td><td>null</td><td>null</td><td>0</td><td>0</td><td>null</td><td>null</td><td>0</td><td>null</td><td>null</td><td>&hellip;</td><td>0</td><td>null</td><td>null</td><td>0</td><td>0</td><td>null</td><td>null</td><td>0</td><td>null</td><td>null</td><td>0</td><td>null</td><td>null</td><td>0</td><td>null</td><td>null</td><td>0</td><td>null</td><td>null</td><td>0</td><td>null</td><td>null</td><td>0</td><td>0</td><td>null</td><td>null</td><td>0</td><td>null</td><td>null</td><td>0</td><td>null</td><td>null</td><td>0</td><td>null</td><td>null</td><td>153.672061</td><td>false</td></tr><tr><td>&quot;J091211.32+264824.4&quot;</td><td>&quot;J091/J091211.32+264824.4.png&quot;</td><td>138.04727</td><td>26.806751</td><td>0.044191</td><td>-18.771126</td><td>161.7444</td><td>4.18035</td><td>12.865334</td><td>9.373409</td><td>&quot;active_baseline&quot;</td><td>false</td><td>true</td><td>5</td><td>4</td><td>0.8</td><td>null</td><td>0</td><td>0.0</td><td>null</td><td>1</td><td>0.2</td><td>null</td><td>0</td><td>0</td><td>null</td><td>null</td><td>0</td><td>null</td><td>null</td><td>0</td><td>0</td><td>null</td><td>null</td><td>0</td><td>null</td><td>null</td><td>&hellip;</td><td>0</td><td>null</td><td>null</td><td>0</td><td>0</td><td>null</td><td>null</td><td>0</td><td>null</td><td>null</td><td>0</td><td>null</td><td>null</td><td>0</td><td>null</td><td>null</td><td>0</td><td>null</td><td>null</td><td>0</td><td>null</td><td>null</td><td>4</td><td>4</td><td>1.0</td><td>null</td><td>0</td><td>0.0</td><td>null</td><td>0</td><td>0.0</td><td>null</td><td>0</td><td>0.0</td><td>null</td><td>154.808065</td><td>false</td></tr><tr><td>&quot;J091401.42+344438.1&quot;</td><td>&quot;J091/J091401.42+344438.1.png&quot;</td><td>138.505922</td><td>34.74393</td><td>0.117608</td><td>-20.988338</td><td>183.065918</td><td>2.376635</td><td>7.086283</td><td>5.190236</td><td>&quot;active_baseline&quot;</td><td>false</td><td>false</td><td>5</td><td>5</td><td>1.0</td><td>null</td><td>0</td><td>0.0</td><td>null</td><td>0</td><td>0.0</td><td>null</td><td>0</td><td>0</td><td>null</td><td>null</td><td>0</td><td>null</td><td>null</td><td>0</td><td>0</td><td>null</td><td>null</td><td>0</td><td>null</td><td>null</td><td>&hellip;</td><td>0</td><td>null</td><td>null</td><td>0</td><td>0</td><td>null</td><td>null</td><td>0</td><td>null</td><td>null</td><td>0</td><td>null</td><td>null</td><td>0</td><td>null</td><td>null</td><td>0</td><td>null</td><td>null</td><td>0</td><td>null</td><td>null</td><td>5</td><td>5</td><td>1.0</td><td>null</td><td>0</td><td>0.0</td><td>null</td><td>0</td><td>0.0</td><td>null</td><td>0</td><td>0.0</td><td>null</td><td>147.941604</td><td>false</td></tr><tr><td>&quot;J022627.30-161841.2&quot;</td><td>&quot;J022/J022627.30-161841.2.png&quot;</td><td>36.613716</td><td>-16.311507</td><td>0.066226</td><td>-22.005053</td><td>1883.144409</td><td>4.534743</td><td>15.287906</td><td>10.88915</td><td>&quot;active_baseline&quot;</td><td>false</td><td>false</td><td>4</td><td>3</td><td>0.75</td><td>null</td><td>0</td><td>0.0</td><td>null</td><td>1</td><td>0.25</td><td>null</td><td>0</td><td>0</td><td>null</td><td>null</td><td>0</td><td>null</td><td>null</td><td>0</td><td>0</td><td>null</td><td>null</td><td>0</td><td>null</td><td>null</td><td>&hellip;</td><td>0</td><td>null</td><td>null</td><td>0</td><td>0</td><td>null</td><td>null</td><td>0</td><td>null</td><td>null</td><td>0</td><td>null</td><td>null</td><td>0</td><td>null</td><td>null</td><td>0</td><td>null</td><td>null</td><td>0</td><td>null</td><td>null</td><td>3</td><td>3</td><td>1.0</td><td>null</td><td>0</td><td>0.0</td><td>null</td><td>0</td><td>0.0</td><td>null</td><td>0</td><td>0.0</td><td>null</td><td>112.947152</td><td>false</td></tr></tbody></table></div>"
      ],
      "text/plain": [
       "shape: (5, 127)\n",
       "┌───────────┬───────────┬───────────┬───────────┬───┬───────────┬───────────┬───────────┬──────────┐\n",
       "│ iauname   ┆ image_pat ┆ ra        ┆ dec       ┆ … ┆ merging_m ┆ merging_m ┆ wrong_siz ┆ wrong_si │\n",
       "│ ---       ┆ h         ┆ ---       ┆ ---       ┆   ┆ erger_fra ┆ erger_deb ┆ e_statist ┆ ze_warni │\n",
       "│ str       ┆ ---       ┆ f64       ┆ f64       ┆   ┆ ction     ┆ iased     ┆ ic        ┆ ng       │\n",
       "│           ┆ str       ┆           ┆           ┆   ┆ ---       ┆ ---       ┆ ---       ┆ ---      │\n",
       "│           ┆           ┆           ┆           ┆   ┆ f64       ┆ f64       ┆ f64       ┆ bool     │\n",
       "╞═══════════╪═══════════╪═══════════╪═══════════╪═══╪═══════════╪═══════════╪═══════════╪══════════╡\n",
       "│ J095102.6 ┆ J095/J095 ┆ 147.76110 ┆ 28.757334 ┆ … ┆ 0.0       ┆ null      ┆ 145.21559 ┆ false    │\n",
       "│ 6+284526. ┆ 102.66+28 ┆ 8         ┆           ┆   ┆           ┆           ┆ 2         ┆          │\n",
       "│ 4         ┆ 4526.4.pn ┆           ┆           ┆   ┆           ┆           ┆           ┆          │\n",
       "│           ┆ g         ┆           ┆           ┆   ┆           ┆           ┆           ┆          │\n",
       "│ J100725.4 ┆ J100/J100 ┆ 151.85290 ┆ 12.095359 ┆ … ┆ null      ┆ null      ┆ 153.67206 ┆ false    │\n",
       "│ 9+120540. ┆ 725.49+12 ┆ 2         ┆           ┆   ┆           ┆           ┆ 1         ┆          │\n",
       "│ 1         ┆ 0540.1.pn ┆           ┆           ┆   ┆           ┆           ┆           ┆          │\n",
       "│           ┆ g         ┆           ┆           ┆   ┆           ┆           ┆           ┆          │\n",
       "│ J091211.3 ┆ J091/J091 ┆ 138.04727 ┆ 26.806751 ┆ … ┆ 0.0       ┆ null      ┆ 154.80806 ┆ false    │\n",
       "│ 2+264824. ┆ 211.32+26 ┆           ┆           ┆   ┆           ┆           ┆ 5         ┆          │\n",
       "│ 4         ┆ 4824.4.pn ┆           ┆           ┆   ┆           ┆           ┆           ┆          │\n",
       "│           ┆ g         ┆           ┆           ┆   ┆           ┆           ┆           ┆          │\n",
       "│ J091401.4 ┆ J091/J091 ┆ 138.50592 ┆ 34.74393  ┆ … ┆ 0.0       ┆ null      ┆ 147.94160 ┆ false    │\n",
       "│ 2+344438. ┆ 401.42+34 ┆ 2         ┆           ┆   ┆           ┆           ┆ 4         ┆          │\n",
       "│ 1         ┆ 4438.1.pn ┆           ┆           ┆   ┆           ┆           ┆           ┆          │\n",
       "│           ┆ g         ┆           ┆           ┆   ┆           ┆           ┆           ┆          │\n",
       "│ J022627.3 ┆ J022/J022 ┆ 36.613716 ┆ -16.31150 ┆ … ┆ 0.0       ┆ null      ┆ 112.94715 ┆ false    │\n",
       "│ 0-161841. ┆ 627.30-16 ┆           ┆ 7         ┆   ┆           ┆           ┆ 2         ┆          │\n",
       "│ 2         ┆ 1841.2.pn ┆           ┆           ┆   ┆           ┆           ┆           ┆          │\n",
       "│           ┆ g         ┆           ┆           ┆   ┆           ┆           ┆           ┆          │\n",
       "└───────────┴───────────┴───────────┴───────────┴───┴───────────┴───────────┴───────────┴──────────┘"
      ]
     },
     "execution_count": 29,
     "metadata": {},
     "output_type": "execute_result"
    }
   ],
   "source": [
    "def add_image_path(df: pl.LazyFrame, dataset_dir: str = \"./dataset\") -> pl.LazyFrame:\n",
    "    # check if file exists\n",
    "    def file_exists(path: str) -> bool:\n",
    "        return os.path.exists(os.path.join(dataset_dir, path))\n",
    "\n",
    "    # drop first component of \"png_loc\"\n",
    "    df = (\n",
    "        df.with_columns(pl.col(\"png_loc\").str.strip_prefix(\"dr5/\").alias(\"image_path\"))\n",
    "        .filter(pl.col(\"image_path\").map_elements(file_exists, return_dtype=pl.Boolean))\n",
    "        .drop(\"png_loc\")\n",
    "    )\n",
    "\n",
    "    # reorder columns to have 'image_path' first\n",
    "    df = df.select(\n",
    "        pl.col(\"iauname\", \"image_path\"),\n",
    "        *df.drop(\"image_path\", \"iauname\").collect_schema().names(),\n",
    "    )\n",
    "\n",
    "    return df\n",
    "\n",
    "\n",
    "volunteers_with_images = add_image_path(volunteers)\n",
    "volunteers_with_images.tail().collect()"
   ]
  },
  {
   "cell_type": "code",
   "execution_count": 39,
   "metadata": {},
   "outputs": [
    {
     "data": {
      "text/html": [
       "<div><style>\n",
       ".dataframe > thead > tr,\n",
       ".dataframe > tbody > tr {\n",
       "  text-align: right;\n",
       "  white-space: pre-wrap;\n",
       "}\n",
       "</style>\n",
       "<small>shape: (5, 129)</small><table border=\"1\" class=\"dataframe\"><thead><tr><th>iauname</th><th>image_path</th><th>ra</th><th>dec</th><th>redshift</th><th>elpetro_absmag_r</th><th>sersic_nmgy_r</th><th>petro_th50</th><th>petro_th90</th><th>petro_theta</th><th>upload_group</th><th>active_learning_on</th><th>in_gzd_ab</th><th>smooth-or-featured_total-votes</th><th>smooth-or-featured_smooth</th><th>smooth-or-featured_smooth_fraction</th><th>smooth-or-featured_smooth_debiased</th><th>smooth-or-featured_featured-or-disk</th><th>smooth-or-featured_featured-or-disk_fraction</th><th>smooth-or-featured_featured-or-disk_debiased</th><th>smooth-or-featured_artifact</th><th>smooth-or-featured_artifact_fraction</th><th>smooth-or-featured_artifact_debiased</th><th>disk-edge-on_total-votes</th><th>disk-edge-on_yes</th><th>disk-edge-on_yes_fraction</th><th>disk-edge-on_yes_debiased</th><th>disk-edge-on_no</th><th>disk-edge-on_no_fraction</th><th>disk-edge-on_no_debiased</th><th>has-spiral-arms_total-votes</th><th>has-spiral-arms_yes</th><th>has-spiral-arms_yes_fraction</th><th>has-spiral-arms_yes_debiased</th><th>has-spiral-arms_no</th><th>has-spiral-arms_no_fraction</th><th>has-spiral-arms_no_debiased</th><th>&hellip;</th><th>spiral-winding_loose_debiased</th><th>spiral-arm-count_total-votes</th><th>spiral-arm-count_1</th><th>spiral-arm-count_1_fraction</th><th>spiral-arm-count_1_debiased</th><th>spiral-arm-count_2</th><th>spiral-arm-count_2_fraction</th><th>spiral-arm-count_2_debiased</th><th>spiral-arm-count_3</th><th>spiral-arm-count_3_fraction</th><th>spiral-arm-count_3_debiased</th><th>spiral-arm-count_4</th><th>spiral-arm-count_4_fraction</th><th>spiral-arm-count_4_debiased</th><th>spiral-arm-count_more-than-4</th><th>spiral-arm-count_more-than-4_fraction</th><th>spiral-arm-count_more-than-4_debiased</th><th>spiral-arm-count_cant-tell</th><th>spiral-arm-count_cant-tell_fraction</th><th>spiral-arm-count_cant-tell_debiased</th><th>merging_total-votes</th><th>merging_none</th><th>merging_none_fraction</th><th>merging_none_debiased</th><th>merging_minor-disturbance</th><th>merging_minor-disturbance_fraction</th><th>merging_minor-disturbance_debiased</th><th>merging_major-disturbance</th><th>merging_major-disturbance_fraction</th><th>merging_major-disturbance_debiased</th><th>merging_merger</th><th>merging_merger_fraction</th><th>merging_merger_debiased</th><th>wrong_size_statistic</th><th>wrong_size_warning</th><th>galaxy_class</th><th>galaxy_class_int</th></tr><tr><td>str</td><td>str</td><td>f64</td><td>f64</td><td>f32</td><td>f32</td><td>f32</td><td>f32</td><td>f32</td><td>f32</td><td>str</td><td>bool</td><td>bool</td><td>i64</td><td>i64</td><td>f64</td><td>f64</td><td>i64</td><td>f64</td><td>f64</td><td>i64</td><td>f64</td><td>f64</td><td>i64</td><td>i64</td><td>f64</td><td>f64</td><td>i64</td><td>f64</td><td>f64</td><td>i64</td><td>i64</td><td>f64</td><td>f64</td><td>i64</td><td>f64</td><td>f64</td><td>&hellip;</td><td>f64</td><td>i64</td><td>i64</td><td>f64</td><td>f64</td><td>i64</td><td>f64</td><td>f64</td><td>i64</td><td>f64</td><td>f64</td><td>i64</td><td>f64</td><td>f64</td><td>i64</td><td>f64</td><td>f64</td><td>i64</td><td>f64</td><td>f64</td><td>i64</td><td>i64</td><td>f64</td><td>f64</td><td>i64</td><td>f64</td><td>f64</td><td>i64</td><td>f64</td><td>f64</td><td>i64</td><td>f64</td><td>f64</td><td>f64</td><td>bool</td><td>enum</td><td>i8</td></tr></thead><tbody><tr><td>&quot;J082950.68+125621.8&quot;</td><td>&quot;J082/J082950.68+125621.8.png&quot;</td><td>127.46119</td><td>12.939386</td><td>0.066619</td><td>-19.800629</td><td>173.592026</td><td>2.929065</td><td>7.224961</td><td>6.528331</td><td>&quot;active_baseline&quot;</td><td>false</td><td>false</td><td>8</td><td>2</td><td>0.25</td><td>null</td><td>6</td><td>0.75</td><td>null</td><td>0</td><td>0.0</td><td>null</td><td>6</td><td>6</td><td>1.0</td><td>null</td><td>0</td><td>0.0</td><td>null</td><td>0</td><td>0</td><td>null</td><td>null</td><td>0</td><td>null</td><td>null</td><td>&hellip;</td><td>null</td><td>0</td><td>0</td><td>null</td><td>null</td><td>0</td><td>null</td><td>null</td><td>0</td><td>null</td><td>null</td><td>0</td><td>null</td><td>null</td><td>0</td><td>null</td><td>null</td><td>0</td><td>null</td><td>null</td><td>8</td><td>7</td><td>0.875</td><td>null</td><td>1</td><td>0.125</td><td>null</td><td>0</td><td>0.0</td><td>null</td><td>0</td><td>0.0</td><td>null</td><td>155.386379</td><td>false</td><td>&quot;irregular&quot;</td><td>2</td></tr><tr><td>&quot;J100927.56+071112.4&quot;</td><td>&quot;J100/J100927.56+071112.4.png&quot;</td><td>152.36483</td><td>7.186803</td><td>0.100948</td><td>-21.110653</td><td>283.301788</td><td>3.722095</td><td>9.933681</td><td>9.42301</td><td>&quot;pre_active&quot;</td><td>false</td><td>false</td><td>34</td><td>14</td><td>0.411765</td><td>0.05</td><td>18</td><td>0.529412</td><td>0.938776</td><td>2</td><td>0.058824</td><td>0.019949</td><td>18</td><td>1</td><td>0.055556</td><td>0.027778</td><td>17</td><td>0.944444</td><td>0.978958</td><td>17</td><td>7</td><td>0.411765</td><td>0.907407</td><td>10</td><td>0.588235</td><td>0.310743</td><td>&hellip;</td><td>0.0</td><td>7</td><td>0</td><td>0.0</td><td>0.0</td><td>4</td><td>0.571429</td><td>0.225806</td><td>0</td><td>0.0</td><td>0.0</td><td>0</td><td>0.0</td><td>0.0</td><td>0</td><td>0.0</td><td>0.0</td><td>3</td><td>0.428571</td><td>0.478261</td><td>32</td><td>9</td><td>0.28125</td><td>0.37931</td><td>11</td><td>0.34375</td><td>0.363424</td><td>8</td><td>0.25</td><td>0.378378</td><td>4</td><td>0.125</td><td>0.129736</td><td>151.761221</td><td>false</td><td>&quot;irregular&quot;</td><td>2</td></tr><tr><td>&quot;J095431.99+064902.7&quot;</td><td>&quot;J095/J095431.99+064902.7.png&quot;</td><td>148.633357</td><td>6.817409</td><td>0.073774</td><td>-21.567976</td><td>1003.406433</td><td>5.456669</td><td>17.837217</td><td>12.704952</td><td>&quot;pre_active&quot;</td><td>false</td><td>false</td><td>39</td><td>0</td><td>0.0</td><td>0.0</td><td>39</td><td>1.0</td><td>1.0</td><td>0</td><td>0.0</td><td>0.0</td><td>39</td><td>1</td><td>0.025641</td><td>0.026316</td><td>38</td><td>0.974359</td><td>0.987259</td><td>38</td><td>37</td><td>0.973684</td><td>0.981818</td><td>1</td><td>0.026316</td><td>0.041504</td><td>&hellip;</td><td>0.268252</td><td>37</td><td>1</td><td>0.027027</td><td>0.013333</td><td>35</td><td>0.945946</td><td>0.754717</td><td>0</td><td>0.0</td><td>0.0</td><td>0</td><td>0.0</td><td>0.0</td><td>0</td><td>0.0</td><td>0.0</td><td>1</td><td>0.027027</td><td>0.029412</td><td>39</td><td>28</td><td>0.717949</td><td>0.769231</td><td>6</td><td>0.153846</td><td>0.168317</td><td>4</td><td>0.102564</td><td>0.118644</td><td>1</td><td>0.025641</td><td>0.028613</td><td>142.099513</td><td>false</td><td>&quot;spiral&quot;</td><td>1</td></tr><tr><td>&quot;J002905.51+020116.8&quot;</td><td>&quot;J002/J002905.51+020116.8.png&quot;</td><td>7.273156</td><td>2.02129</td><td>0.078009</td><td>-20.600267</td><td>305.888702</td><td>3.92381</td><td>10.472028</td><td>9.62405</td><td>&quot;active_priority&quot;</td><td>true</td><td>false</td><td>41</td><td>16</td><td>0.390244</td><td>0.09589</td><td>25</td><td>0.609756</td><td>0.878788</td><td>0</td><td>0.0</td><td>0.0</td><td>25</td><td>21</td><td>0.84</td><td>0.561644</td><td>4</td><td>0.16</td><td>0.194238</td><td>4</td><td>1</td><td>0.25</td><td>0.873016</td><td>3</td><td>0.75</td><td>0.441618</td><td>&hellip;</td><td>0.0</td><td>1</td><td>0</td><td>0.0</td><td>0.0</td><td>0</td><td>0.0</td><td>0.0</td><td>0</td><td>0.0</td><td>0.0</td><td>0</td><td>0.0</td><td>0.0</td><td>0</td><td>0.0</td><td>0.0</td><td>1</td><td>1.0</td><td>1.0</td><td>41</td><td>28</td><td>0.682927</td><td>0.648649</td><td>10</td><td>0.243902</td><td>0.262304</td><td>2</td><td>0.04878</td><td>0.026316</td><td>1</td><td>0.02439</td><td>0.027549</td><td>140.06518</td><td>false</td><td>&quot;irregular&quot;</td><td>2</td></tr><tr><td>&quot;J002445.21-011204.1&quot;</td><td>&quot;J002/J002445.21-011204.1.png&quot;</td><td>6.188409</td><td>-1.20118</td><td>0.107242</td><td>-20.399025</td><td>123.388069</td><td>1.556126</td><td>4.37286</td><td>3.657489</td><td>&quot;pre_active&quot;</td><td>false</td><td>false</td><td>39</td><td>25</td><td>0.641026</td><td>0.018182</td><td>11</td><td>0.282051</td><td>0.948718</td><td>3</td><td>0.076923</td><td>0.070578</td><td>11</td><td>3</td><td>0.272727</td><td>0.038462</td><td>8</td><td>0.727273</td><td>0.820237</td><td>8</td><td>1</td><td>0.125</td><td>0.861111</td><td>7</td><td>0.875</td><td>0.031788</td><td>&hellip;</td><td>1.0</td><td>1</td><td>0</td><td>0.0</td><td>0.0</td><td>1</td><td>1.0</td><td>1.0</td><td>0</td><td>0.0</td><td>0.0</td><td>0</td><td>0.0</td><td>0.0</td><td>0</td><td>0.0</td><td>0.0</td><td>0</td><td>0.0</td><td>0.0</td><td>36</td><td>23</td><td>0.638889</td><td>0.361111</td><td>0</td><td>0.0</td><td>0.0</td><td>0</td><td>0.0</td><td>0.0</td><td>3</td><td>0.083333</td><td>0.089024</td><td>145.513861</td><td>false</td><td>&quot;elliptical&quot;</td><td>0</td></tr></tbody></table></div>"
      ],
      "text/plain": [
       "shape: (5, 129)\n",
       "┌───────────┬───────────┬───────────┬───────────┬───┬───────────┬───────────┬───────────┬──────────┐\n",
       "│ iauname   ┆ image_pat ┆ ra        ┆ dec       ┆ … ┆ wrong_siz ┆ wrong_siz ┆ galaxy_cl ┆ galaxy_c │\n",
       "│ ---       ┆ h         ┆ ---       ┆ ---       ┆   ┆ e_statist ┆ e_warning ┆ ass       ┆ lass_int │\n",
       "│ str       ┆ ---       ┆ f64       ┆ f64       ┆   ┆ ic        ┆ ---       ┆ ---       ┆ ---      │\n",
       "│           ┆ str       ┆           ┆           ┆   ┆ ---       ┆ bool      ┆ enum      ┆ i8       │\n",
       "│           ┆           ┆           ┆           ┆   ┆ f64       ┆           ┆           ┆          │\n",
       "╞═══════════╪═══════════╪═══════════╪═══════════╪═══╪═══════════╪═══════════╪═══════════╪══════════╡\n",
       "│ J082950.6 ┆ J082/J082 ┆ 127.46119 ┆ 12.939386 ┆ … ┆ 155.38637 ┆ false     ┆ irregular ┆ 2        │\n",
       "│ 8+125621. ┆ 950.68+12 ┆           ┆           ┆   ┆ 9         ┆           ┆           ┆          │\n",
       "│ 8         ┆ 5621.8.pn ┆           ┆           ┆   ┆           ┆           ┆           ┆          │\n",
       "│           ┆ g         ┆           ┆           ┆   ┆           ┆           ┆           ┆          │\n",
       "│ J100927.5 ┆ J100/J100 ┆ 152.36483 ┆ 7.186803  ┆ … ┆ 151.76122 ┆ false     ┆ irregular ┆ 2        │\n",
       "│ 6+071112. ┆ 927.56+07 ┆           ┆           ┆   ┆ 1         ┆           ┆           ┆          │\n",
       "│ 4         ┆ 1112.4.pn ┆           ┆           ┆   ┆           ┆           ┆           ┆          │\n",
       "│           ┆ g         ┆           ┆           ┆   ┆           ┆           ┆           ┆          │\n",
       "│ J095431.9 ┆ J095/J095 ┆ 148.63335 ┆ 6.817409  ┆ … ┆ 142.09951 ┆ false     ┆ spiral    ┆ 1        │\n",
       "│ 9+064902. ┆ 431.99+06 ┆ 7         ┆           ┆   ┆ 3         ┆           ┆           ┆          │\n",
       "│ 7         ┆ 4902.7.pn ┆           ┆           ┆   ┆           ┆           ┆           ┆          │\n",
       "│           ┆ g         ┆           ┆           ┆   ┆           ┆           ┆           ┆          │\n",
       "│ J002905.5 ┆ J002/J002 ┆ 7.273156  ┆ 2.02129   ┆ … ┆ 140.06518 ┆ false     ┆ irregular ┆ 2        │\n",
       "│ 1+020116. ┆ 905.51+02 ┆           ┆           ┆   ┆           ┆           ┆           ┆          │\n",
       "│ 8         ┆ 0116.8.pn ┆           ┆           ┆   ┆           ┆           ┆           ┆          │\n",
       "│           ┆ g         ┆           ┆           ┆   ┆           ┆           ┆           ┆          │\n",
       "│ J002445.2 ┆ J002/J002 ┆ 6.188409  ┆ -1.20118  ┆ … ┆ 145.51386 ┆ false     ┆ elliptica ┆ 0        │\n",
       "│ 1-011204. ┆ 445.21-01 ┆           ┆           ┆   ┆ 1         ┆           ┆ l         ┆          │\n",
       "│ 1         ┆ 1204.1.pn ┆           ┆           ┆   ┆           ┆           ┆           ┆          │\n",
       "│           ┆ g         ┆           ┆           ┆   ┆           ┆           ┆           ┆          │\n",
       "└───────────┴───────────┴───────────┴───────────┴───┴───────────┴───────────┴───────────┴──────────┘"
      ]
     },
     "execution_count": 39,
     "metadata": {},
     "output_type": "execute_result"
    }
   ],
   "source": [
    "def make_categories(df: pl.LazyFrame) -> pl.LazyFrame:\n",
    "    galaxy_enum = pl.Enum([\"elliptical\", \"spiral\", \"irregular\"])\n",
    "\n",
    "    df = df.with_columns(\n",
    "        pl.when(pl.col(\"smooth-or-featured_smooth_fraction\") >= 0.5)\n",
    "        .then(pl.lit(\"elliptical\"))\n",
    "        .when(pl.col(\"has-spiral-arms_yes_fraction\") >= 0.5)\n",
    "        .then(pl.lit(\"spiral\"))\n",
    "        .otherwise(pl.lit(\"irregular\"))\n",
    "        .cast(galaxy_enum)\n",
    "        .alias(\"galaxy_class\")\n",
    "    ).drop_nulls(\"galaxy_class\").with_columns(\n",
    "        pl.col(\"galaxy_class\").to_physical().cast(pl.Int8).alias(\"galaxy_class_int\"),\n",
    "    )\n",
    "\n",
    "    return df\n",
    "\n",
    "volunteers_with_categories = make_categories(volunteers_with_images)\n",
    "volunteers_with_categories.head().collect()"
   ]
  },
  {
   "cell_type": "code",
   "execution_count": 40,
   "metadata": {},
   "outputs": [
    {
     "data": {
      "text/plain": [
       "(71883, 129)"
      ]
     },
     "execution_count": 40,
     "metadata": {},
     "output_type": "execute_result"
    }
   ],
   "source": [
    "volunteers_with_categories.collect().shape"
   ]
  },
  {
   "cell_type": "code",
   "execution_count": 41,
   "metadata": {},
   "outputs": [],
   "source": [
    "# save the updated DataFrame to a new Parquet file\n",
    "volunteers_with_categories.sink_parquet(\"dataset/gz_decals_volunteers_5_images.parquet\")"
   ]
  },
  {
   "cell_type": "code",
   "execution_count": 20,
   "metadata": {},
   "outputs": [],
   "source": [
    "import dataset\n",
    "\n",
    "data = dataset.GalaxyZooDecalsDataset(root=\"./dataset\")"
   ]
  },
  {
   "cell_type": "code",
   "execution_count": 21,
   "metadata": {},
   "outputs": [
    {
     "data": {
      "text/plain": [
       "18788"
      ]
     },
     "execution_count": 21,
     "metadata": {},
     "output_type": "execute_result"
    }
   ],
   "source": [
    "len(data)"
   ]
  },
  {
   "cell_type": "code",
   "execution_count": null,
   "metadata": {},
   "outputs": [],
   "source": []
  }
 ],
 "metadata": {
  "kernelspec": {
   "display_name": "AppML25",
   "language": "python",
   "name": "python3"
  },
  "language_info": {
   "codemirror_mode": {
    "name": "ipython",
    "version": 3
   },
   "file_extension": ".py",
   "mimetype": "text/x-python",
   "name": "python",
   "nbconvert_exporter": "python",
   "pygments_lexer": "ipython3",
   "version": "3.13.3"
  }
 },
 "nbformat": 4,
 "nbformat_minor": 2
}
