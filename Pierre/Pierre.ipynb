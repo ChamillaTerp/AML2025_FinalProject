{
 "cells": [
  {
   "cell_type": "code",
   "execution_count": 6,
   "metadata": {},
   "outputs": [],
   "source": [
    "import polars as pl\n",
    "import os"
   ]
  },
  {
   "cell_type": "code",
   "execution_count": 7,
   "metadata": {},
   "outputs": [
    {
     "data": {
      "text/html": [
       "<div><style>\n",
       ".dataframe > thead > tr,\n",
       ".dataframe > tbody > tr {\n",
       "  text-align: right;\n",
       "  white-space: pre-wrap;\n",
       "}\n",
       "</style>\n",
       "<small>shape: (5, 127)</small><table border=\"1\" class=\"dataframe\"><thead><tr><th>iauname</th><th>ra</th><th>dec</th><th>redshift</th><th>elpetro_absmag_r</th><th>sersic_nmgy_r</th><th>petro_th50</th><th>petro_th90</th><th>petro_theta</th><th>upload_group</th><th>active_learning_on</th><th>in_gzd_ab</th><th>png_loc</th><th>smooth-or-featured_total-votes</th><th>smooth-or-featured_smooth</th><th>smooth-or-featured_smooth_fraction</th><th>smooth-or-featured_smooth_debiased</th><th>smooth-or-featured_featured-or-disk</th><th>smooth-or-featured_featured-or-disk_fraction</th><th>smooth-or-featured_featured-or-disk_debiased</th><th>smooth-or-featured_artifact</th><th>smooth-or-featured_artifact_fraction</th><th>smooth-or-featured_artifact_debiased</th><th>disk-edge-on_total-votes</th><th>disk-edge-on_yes</th><th>disk-edge-on_yes_fraction</th><th>disk-edge-on_yes_debiased</th><th>disk-edge-on_no</th><th>disk-edge-on_no_fraction</th><th>disk-edge-on_no_debiased</th><th>has-spiral-arms_total-votes</th><th>has-spiral-arms_yes</th><th>has-spiral-arms_yes_fraction</th><th>has-spiral-arms_yes_debiased</th><th>has-spiral-arms_no</th><th>has-spiral-arms_no_fraction</th><th>has-spiral-arms_no_debiased</th><th>&hellip;</th><th>spiral-winding_loose</th><th>spiral-winding_loose_fraction</th><th>spiral-winding_loose_debiased</th><th>spiral-arm-count_total-votes</th><th>spiral-arm-count_1</th><th>spiral-arm-count_1_fraction</th><th>spiral-arm-count_1_debiased</th><th>spiral-arm-count_2</th><th>spiral-arm-count_2_fraction</th><th>spiral-arm-count_2_debiased</th><th>spiral-arm-count_3</th><th>spiral-arm-count_3_fraction</th><th>spiral-arm-count_3_debiased</th><th>spiral-arm-count_4</th><th>spiral-arm-count_4_fraction</th><th>spiral-arm-count_4_debiased</th><th>spiral-arm-count_more-than-4</th><th>spiral-arm-count_more-than-4_fraction</th><th>spiral-arm-count_more-than-4_debiased</th><th>spiral-arm-count_cant-tell</th><th>spiral-arm-count_cant-tell_fraction</th><th>spiral-arm-count_cant-tell_debiased</th><th>merging_total-votes</th><th>merging_none</th><th>merging_none_fraction</th><th>merging_none_debiased</th><th>merging_minor-disturbance</th><th>merging_minor-disturbance_fraction</th><th>merging_minor-disturbance_debiased</th><th>merging_major-disturbance</th><th>merging_major-disturbance_fraction</th><th>merging_major-disturbance_debiased</th><th>merging_merger</th><th>merging_merger_fraction</th><th>merging_merger_debiased</th><th>wrong_size_statistic</th><th>wrong_size_warning</th></tr><tr><td>str</td><td>f64</td><td>f64</td><td>f32</td><td>f32</td><td>f32</td><td>f32</td><td>f32</td><td>f32</td><td>str</td><td>bool</td><td>bool</td><td>str</td><td>i64</td><td>i64</td><td>f64</td><td>f64</td><td>i64</td><td>f64</td><td>f64</td><td>i64</td><td>f64</td><td>f64</td><td>i64</td><td>i64</td><td>f64</td><td>f64</td><td>i64</td><td>f64</td><td>f64</td><td>i64</td><td>i64</td><td>f64</td><td>f64</td><td>i64</td><td>f64</td><td>f64</td><td>&hellip;</td><td>i64</td><td>f64</td><td>f64</td><td>i64</td><td>i64</td><td>f64</td><td>f64</td><td>i64</td><td>f64</td><td>f64</td><td>i64</td><td>f64</td><td>f64</td><td>i64</td><td>f64</td><td>f64</td><td>i64</td><td>f64</td><td>f64</td><td>i64</td><td>f64</td><td>f64</td><td>i64</td><td>i64</td><td>f64</td><td>f64</td><td>i64</td><td>f64</td><td>f64</td><td>i64</td><td>f64</td><td>f64</td><td>i64</td><td>f64</td><td>f64</td><td>f64</td><td>bool</td></tr></thead><tbody><tr><td>&quot;J112953.88-000427.4&quot;</td><td>172.474526</td><td>-0.074281</td><td>0.124142</td><td>-21.253342</td><td>167.262878</td><td>1.835066</td><td>5.414066</td><td>4.202472</td><td>&quot;pre_active&quot;</td><td>false</td><td>true</td><td>&quot;dr5/J112/J112953.88-000427.4.p…</td><td>84</td><td>57</td><td>0.678571</td><td>0.102564</td><td>23</td><td>0.27381</td><td>0.916667</td><td>4</td><td>0.047619</td><td>0.025742</td><td>23</td><td>7</td><td>0.304348</td><td>0.04878</td><td>16</td><td>0.695652</td><td>0.805502</td><td>16</td><td>1</td><td>0.0625</td><td>0.820513</td><td>15</td><td>0.9375</td><td>0.108171</td><td>&hellip;</td><td>0</td><td>0.0</td><td>0.0</td><td>1</td><td>0</td><td>0.0</td><td>0.0</td><td>0</td><td>0.0</td><td>0.0</td><td>0</td><td>0.0</td><td>0.0</td><td>0</td><td>0.0</td><td>0.0</td><td>0</td><td>0.0</td><td>0.0</td><td>1</td><td>1.0</td><td>1.0</td><td>80</td><td>67</td><td>0.8375</td><td>0.772727</td><td>8</td><td>0.1</td><td>0.127708</td><td>5</td><td>0.0625</td><td>0.076923</td><td>0</td><td>0.0</td><td>0.0</td><td>133.592684</td><td>false</td></tr><tr><td>&quot;J104325.29+190335.0&quot;</td><td>160.856533</td><td>19.060441</td><td>0.049088</td><td>-21.77541</td><td>2941.729248</td><td>4.405412</td><td>14.320828</td><td>10.757237</td><td>&quot;targeted&quot;</td><td>false</td><td>false</td><td>&quot;dr5/J104/J104325.29+190335.0.p…</td><td>37</td><td>33</td><td>0.891892</td><td>0.857143</td><td>2</td><td>0.054054</td><td>0.038462</td><td>2</td><td>0.054054</td><td>0.022166</td><td>2</td><td>0</td><td>0.0</td><td>0.0</td><td>2</td><td>1.0</td><td>1.0</td><td>2</td><td>0</td><td>0.0</td><td>0.0</td><td>2</td><td>1.0</td><td>1.0</td><td>&hellip;</td><td>0</td><td>null</td><td>0.0</td><td>0</td><td>0</td><td>null</td><td>0.0</td><td>0</td><td>null</td><td>0.0</td><td>0</td><td>null</td><td>0.0</td><td>0</td><td>null</td><td>0.0</td><td>0</td><td>null</td><td>0.0</td><td>0</td><td>null</td><td>0.0</td><td>35</td><td>0</td><td>0.0</td><td>0.0</td><td>0</td><td>0.0</td><td>0.0</td><td>0</td><td>0.0</td><td>0.0</td><td>2</td><td>0.057143</td><td>0.060757</td><td>132.443129</td><td>false</td></tr><tr><td>&quot;J104629.54+115415.1&quot;</td><td>161.623135</td><td>11.904197</td><td>0.092906</td><td>-19.947397</td><td>125.076324</td><td>4.71987</td><td>13.139816</td><td>9.726173</td><td>&quot;active_baseline&quot;</td><td>false</td><td>false</td><td>&quot;dr5/J104/J104629.54+115415.1.p…</td><td>5</td><td>1</td><td>0.2</td><td>null</td><td>4</td><td>0.8</td><td>null</td><td>0</td><td>0.0</td><td>null</td><td>4</td><td>0</td><td>0.0</td><td>null</td><td>4</td><td>1.0</td><td>null</td><td>4</td><td>4</td><td>1.0</td><td>null</td><td>0</td><td>0.0</td><td>null</td><td>&hellip;</td><td>1</td><td>0.25</td><td>null</td><td>4</td><td>0</td><td>0.0</td><td>null</td><td>4</td><td>1.0</td><td>null</td><td>0</td><td>0.0</td><td>null</td><td>0</td><td>0.0</td><td>null</td><td>0</td><td>0.0</td><td>null</td><td>0</td><td>0.0</td><td>null</td><td>5</td><td>4</td><td>0.8</td><td>null</td><td>1</td><td>0.2</td><td>null</td><td>0</td><td>0.0</td><td>null</td><td>0</td><td>0.0</td><td>null</td><td>156.336302</td><td>false</td></tr><tr><td>&quot;J082950.68+125621.8&quot;</td><td>127.46119</td><td>12.939386</td><td>0.066619</td><td>-19.800629</td><td>173.592026</td><td>2.929065</td><td>7.224961</td><td>6.528331</td><td>&quot;active_baseline&quot;</td><td>false</td><td>false</td><td>&quot;dr5/J082/J082950.68+125621.8.p…</td><td>8</td><td>2</td><td>0.25</td><td>null</td><td>6</td><td>0.75</td><td>null</td><td>0</td><td>0.0</td><td>null</td><td>6</td><td>6</td><td>1.0</td><td>null</td><td>0</td><td>0.0</td><td>null</td><td>0</td><td>0</td><td>null</td><td>null</td><td>0</td><td>null</td><td>null</td><td>&hellip;</td><td>0</td><td>null</td><td>null</td><td>0</td><td>0</td><td>null</td><td>null</td><td>0</td><td>null</td><td>null</td><td>0</td><td>null</td><td>null</td><td>0</td><td>null</td><td>null</td><td>0</td><td>null</td><td>null</td><td>0</td><td>null</td><td>null</td><td>8</td><td>7</td><td>0.875</td><td>null</td><td>1</td><td>0.125</td><td>null</td><td>0</td><td>0.0</td><td>null</td><td>0</td><td>0.0</td><td>null</td><td>155.386379</td><td>false</td></tr><tr><td>&quot;J122056.00-015022.0&quot;</td><td>185.233342</td><td>-1.83934</td><td>0.070042</td><td>-19.013256</td><td>88.826881</td><td>2.521897</td><td>6.496888</td><td>5.054409</td><td>&quot;active_baseline&quot;</td><td>false</td><td>false</td><td>&quot;dr5/J122/J122056.00-015022.0.p…</td><td>5</td><td>2</td><td>0.4</td><td>null</td><td>3</td><td>0.6</td><td>null</td><td>0</td><td>0.0</td><td>null</td><td>3</td><td>0</td><td>0.0</td><td>null</td><td>3</td><td>1.0</td><td>null</td><td>3</td><td>2</td><td>0.666667</td><td>null</td><td>1</td><td>0.333333</td><td>null</td><td>&hellip;</td><td>1</td><td>0.5</td><td>null</td><td>2</td><td>0</td><td>0.0</td><td>null</td><td>2</td><td>1.0</td><td>null</td><td>0</td><td>0.0</td><td>null</td><td>0</td><td>0.0</td><td>null</td><td>0</td><td>0.0</td><td>null</td><td>0</td><td>0.0</td><td>null</td><td>5</td><td>5</td><td>1.0</td><td>null</td><td>0</td><td>0.0</td><td>null</td><td>0</td><td>0.0</td><td>null</td><td>0</td><td>0.0</td><td>null</td><td>143.735491</td><td>false</td></tr></tbody></table></div>"
      ],
      "text/plain": [
       "shape: (5, 127)\n",
       "┌───────────┬───────────┬───────────┬──────────┬───┬───────────┬───────────┬───────────┬───────────┐\n",
       "│ iauname   ┆ ra        ┆ dec       ┆ redshift ┆ … ┆ merging_m ┆ merging_m ┆ wrong_siz ┆ wrong_siz │\n",
       "│ ---       ┆ ---       ┆ ---       ┆ ---      ┆   ┆ erger_fra ┆ erger_deb ┆ e_statist ┆ e_warning │\n",
       "│ str       ┆ f64       ┆ f64       ┆ f32      ┆   ┆ ction     ┆ iased     ┆ ic        ┆ ---       │\n",
       "│           ┆           ┆           ┆          ┆   ┆ ---       ┆ ---       ┆ ---       ┆ bool      │\n",
       "│           ┆           ┆           ┆          ┆   ┆ f64       ┆ f64       ┆ f64       ┆           │\n",
       "╞═══════════╪═══════════╪═══════════╪══════════╪═══╪═══════════╪═══════════╪═══════════╪═══════════╡\n",
       "│ J112953.8 ┆ 172.47452 ┆ -0.074281 ┆ 0.124142 ┆ … ┆ 0.0       ┆ 0.0       ┆ 133.59268 ┆ false     │\n",
       "│ 8-000427. ┆ 6         ┆           ┆          ┆   ┆           ┆           ┆ 4         ┆           │\n",
       "│ 4         ┆           ┆           ┆          ┆   ┆           ┆           ┆           ┆           │\n",
       "│ J104325.2 ┆ 160.85653 ┆ 19.060441 ┆ 0.049088 ┆ … ┆ 0.057143  ┆ 0.060757  ┆ 132.44312 ┆ false     │\n",
       "│ 9+190335. ┆ 3         ┆           ┆          ┆   ┆           ┆           ┆ 9         ┆           │\n",
       "│ 0         ┆           ┆           ┆          ┆   ┆           ┆           ┆           ┆           │\n",
       "│ J104629.5 ┆ 161.62313 ┆ 11.904197 ┆ 0.092906 ┆ … ┆ 0.0       ┆ null      ┆ 156.33630 ┆ false     │\n",
       "│ 4+115415. ┆ 5         ┆           ┆          ┆   ┆           ┆           ┆ 2         ┆           │\n",
       "│ 1         ┆           ┆           ┆          ┆   ┆           ┆           ┆           ┆           │\n",
       "│ J082950.6 ┆ 127.46119 ┆ 12.939386 ┆ 0.066619 ┆ … ┆ 0.0       ┆ null      ┆ 155.38637 ┆ false     │\n",
       "│ 8+125621. ┆           ┆           ┆          ┆   ┆           ┆           ┆ 9         ┆           │\n",
       "│ 8         ┆           ┆           ┆          ┆   ┆           ┆           ┆           ┆           │\n",
       "│ J122056.0 ┆ 185.23334 ┆ -1.83934  ┆ 0.070042 ┆ … ┆ 0.0       ┆ null      ┆ 143.73549 ┆ false     │\n",
       "│ 0-015022. ┆ 2         ┆           ┆          ┆   ┆           ┆           ┆ 1         ┆           │\n",
       "│ 0         ┆           ┆           ┆          ┆   ┆           ┆           ┆           ┆           │\n",
       "└───────────┴───────────┴───────────┴──────────┴───┴───────────┴───────────┴───────────┴───────────┘"
      ]
     },
     "execution_count": 7,
     "metadata": {},
     "output_type": "execute_result"
    }
   ],
   "source": [
    "volunteers = pl.scan_parquet(\"dataset/gz_decals_volunteers_5.parquet\")\n",
    "volunteers.head().collect()"
   ]
  },
  {
   "cell_type": "code",
   "execution_count": 8,
   "metadata": {},
   "outputs": [
    {
     "ename": "ColumnNotFoundError",
     "evalue": "unable to find column \"data_release\"; valid columns: [\"iauname\", \"ra\", \"dec\", \"redshift\", \"elpetro_absmag_r\", \"sersic_nmgy_r\", \"petro_th50\", \"petro_th90\", \"petro_theta\", \"upload_group\", \"active_learning_on\", \"in_gzd_ab\", \"png_loc\", \"smooth-or-featured_total-votes\", \"smooth-or-featured_smooth\", \"smooth-or-featured_smooth_fraction\", \"smooth-or-featured_smooth_debiased\", \"smooth-or-featured_featured-or-disk\", \"smooth-or-featured_featured-or-disk_fraction\", \"smooth-or-featured_featured-or-disk_debiased\", \"smooth-or-featured_artifact\", \"smooth-or-featured_artifact_fraction\", \"smooth-or-featured_artifact_debiased\", \"disk-edge-on_total-votes\", \"disk-edge-on_yes\", \"disk-edge-on_yes_fraction\", \"disk-edge-on_yes_debiased\", \"disk-edge-on_no\", \"disk-edge-on_no_fraction\", \"disk-edge-on_no_debiased\", \"has-spiral-arms_total-votes\", \"has-spiral-arms_yes\", \"has-spiral-arms_yes_fraction\", \"has-spiral-arms_yes_debiased\", \"has-spiral-arms_no\", \"has-spiral-arms_no_fraction\", \"has-spiral-arms_no_debiased\", \"bar_total-votes\", \"bar_strong\", \"bar_strong_fraction\", \"bar_strong_debiased\", \"bar_weak\", \"bar_weak_fraction\", \"bar_weak_debiased\", \"bar_no\", \"bar_no_fraction\", \"bar_no_debiased\", \"bulge-size_total-votes\", \"bulge-size_dominant\", \"bulge-size_dominant_fraction\", \"bulge-size_dominant_debiased\", \"bulge-size_large\", \"bulge-size_large_fraction\", \"bulge-size_large_debiased\", \"bulge-size_moderate\", \"bulge-size_moderate_fraction\", \"bulge-size_moderate_debiased\", \"bulge-size_small\", \"bulge-size_small_fraction\", \"bulge-size_small_debiased\", \"bulge-size_none\", \"bulge-size_none_fraction\", \"bulge-size_none_debiased\", \"how-rounded_total-votes\", \"how-rounded_round\", \"how-rounded_round_fraction\", \"how-rounded_round_debiased\", \"how-rounded_in-between\", \"how-rounded_in-between_fraction\", \"how-rounded_in-between_debiased\", \"how-rounded_cigar-shaped\", \"how-rounded_cigar-shaped_fraction\", \"how-rounded_cigar-shaped_debiased\", \"edge-on-bulge_total-votes\", \"edge-on-bulge_boxy\", \"edge-on-bulge_boxy_fraction\", \"edge-on-bulge_boxy_debiased\", \"edge-on-bulge_none\", \"edge-on-bulge_none_fraction\", \"edge-on-bulge_none_debiased\", \"edge-on-bulge_rounded\", \"edge-on-bulge_rounded_fraction\", \"edge-on-bulge_rounded_debiased\", \"spiral-winding_total-votes\", \"spiral-winding_tight\", \"spiral-winding_tight_fraction\", \"spiral-winding_tight_debiased\", \"spiral-winding_medium\", \"spiral-winding_medium_fraction\", \"spiral-winding_medium_debiased\", \"spiral-winding_loose\", \"spiral-winding_loose_fraction\", \"spiral-winding_loose_debiased\", \"spiral-arm-count_total-votes\", \"spiral-arm-count_1\", \"spiral-arm-count_1_fraction\", \"spiral-arm-count_1_debiased\", \"spiral-arm-count_2\", \"spiral-arm-count_2_fraction\", \"spiral-arm-count_2_debiased\", \"spiral-arm-count_3\", \"spiral-arm-count_3_fraction\", \"spiral-arm-count_3_debiased\", \"spiral-arm-count_4\", \"spiral-arm-count_4_fraction\", \"spiral-arm-count_4_debiased\", \"spiral-arm-count_more-than-4\", \"spiral-arm-count_more-than-4_fraction\", \"spiral-arm-count_more-than-4_debiased\", \"spiral-arm-count_cant-tell\", \"spiral-arm-count_cant-tell_fraction\", \"spiral-arm-count_cant-tell_debiased\", \"merging_total-votes\", \"merging_none\", \"merging_none_fraction\", \"merging_none_debiased\", \"merging_minor-disturbance\", \"merging_minor-disturbance_fraction\", \"merging_minor-disturbance_debiased\", \"merging_major-disturbance\", \"merging_major-disturbance_fraction\", \"merging_major-disturbance_debiased\", \"merging_merger\", \"merging_merger_fraction\", \"merging_merger_debiased\", \"wrong_size_statistic\", \"wrong_size_warning\"]\n\nResolved plan until failure:\n\n\t---> FAILED HERE RESOLVING 'sink' <---\nParquet SCAN [dataset/gz_decals_volunteers_5.parquet]\nPROJECT */127 COLUMNS",
     "output_type": "error",
     "traceback": [
      "\u001b[31m---------------------------------------------------------------------------\u001b[39m",
      "\u001b[31mColumnNotFoundError\u001b[39m                       Traceback (most recent call last)",
      "\u001b[36mCell\u001b[39m\u001b[36m \u001b[39m\u001b[32mIn[8]\u001b[39m\u001b[32m, line 1\u001b[39m\n\u001b[32m----> \u001b[39m\u001b[32m1\u001b[39m \u001b[43mvolunteers\u001b[49m\u001b[43m.\u001b[49m\u001b[43mfilter\u001b[49m\u001b[43m(\u001b[49m\u001b[43mpl\u001b[49m\u001b[43m.\u001b[49m\u001b[43mcol\u001b[49m\u001b[43m(\u001b[49m\u001b[33;43m\"\u001b[39;49m\u001b[33;43mdata_release\u001b[39;49m\u001b[33;43m\"\u001b[39;49m\u001b[43m)\u001b[49m\u001b[43m \u001b[49m\u001b[43m==\u001b[49m\u001b[43m \u001b[49m\u001b[33;43m\"\u001b[39;49m\u001b[33;43mDR5\u001b[39;49m\u001b[33;43m\"\u001b[39;49m\u001b[43m)\u001b[49m\u001b[43m.\u001b[49m\u001b[43mhead\u001b[49m\u001b[43m(\u001b[49m\u001b[43m)\u001b[49m\u001b[43m.\u001b[49m\u001b[43mcollect\u001b[49m\u001b[43m(\u001b[49m\u001b[43m)\u001b[49m\n",
      "\u001b[36mFile \u001b[39m\u001b[32m~/.conda/envs/AppML25/lib/python3.13/site-packages/polars/_utils/deprecation.py:93\u001b[39m, in \u001b[36mdeprecate_streaming_parameter.<locals>.decorate.<locals>.wrapper\u001b[39m\u001b[34m(*args, **kwargs)\u001b[39m\n\u001b[32m     89\u001b[39m         kwargs[\u001b[33m\"\u001b[39m\u001b[33mengine\u001b[39m\u001b[33m\"\u001b[39m] = \u001b[33m\"\u001b[39m\u001b[33min-memory\u001b[39m\u001b[33m\"\u001b[39m\n\u001b[32m     91\u001b[39m     \u001b[38;5;28;01mdel\u001b[39;00m kwargs[\u001b[33m\"\u001b[39m\u001b[33mstreaming\u001b[39m\u001b[33m\"\u001b[39m]\n\u001b[32m---> \u001b[39m\u001b[32m93\u001b[39m \u001b[38;5;28;01mreturn\u001b[39;00m \u001b[43mfunction\u001b[49m\u001b[43m(\u001b[49m\u001b[43m*\u001b[49m\u001b[43margs\u001b[49m\u001b[43m,\u001b[49m\u001b[43m \u001b[49m\u001b[43m*\u001b[49m\u001b[43m*\u001b[49m\u001b[43mkwargs\u001b[49m\u001b[43m)\u001b[49m\n",
      "\u001b[36mFile \u001b[39m\u001b[32m~/.conda/envs/AppML25/lib/python3.13/site-packages/polars/lazyframe/frame.py:2224\u001b[39m, in \u001b[36mLazyFrame.collect\u001b[39m\u001b[34m(self, type_coercion, _type_check, predicate_pushdown, projection_pushdown, simplify_expression, slice_pushdown, comm_subplan_elim, comm_subexpr_elim, cluster_with_columns, collapse_joins, no_optimization, engine, background, _check_order, _eager, **_kwargs)\u001b[39m\n\u001b[32m   2222\u001b[39m \u001b[38;5;66;03m# Only for testing purposes\u001b[39;00m\n\u001b[32m   2223\u001b[39m callback = _kwargs.get(\u001b[33m\"\u001b[39m\u001b[33mpost_opt_callback\u001b[39m\u001b[33m\"\u001b[39m, callback)\n\u001b[32m-> \u001b[39m\u001b[32m2224\u001b[39m \u001b[38;5;28;01mreturn\u001b[39;00m wrap_df(\u001b[43mldf\u001b[49m\u001b[43m.\u001b[49m\u001b[43mcollect\u001b[49m\u001b[43m(\u001b[49m\u001b[43mengine\u001b[49m\u001b[43m,\u001b[49m\u001b[43m \u001b[49m\u001b[43mcallback\u001b[49m\u001b[43m)\u001b[49m)\n",
      "\u001b[31mColumnNotFoundError\u001b[39m: unable to find column \"data_release\"; valid columns: [\"iauname\", \"ra\", \"dec\", \"redshift\", \"elpetro_absmag_r\", \"sersic_nmgy_r\", \"petro_th50\", \"petro_th90\", \"petro_theta\", \"upload_group\", \"active_learning_on\", \"in_gzd_ab\", \"png_loc\", \"smooth-or-featured_total-votes\", \"smooth-or-featured_smooth\", \"smooth-or-featured_smooth_fraction\", \"smooth-or-featured_smooth_debiased\", \"smooth-or-featured_featured-or-disk\", \"smooth-or-featured_featured-or-disk_fraction\", \"smooth-or-featured_featured-or-disk_debiased\", \"smooth-or-featured_artifact\", \"smooth-or-featured_artifact_fraction\", \"smooth-or-featured_artifact_debiased\", \"disk-edge-on_total-votes\", \"disk-edge-on_yes\", \"disk-edge-on_yes_fraction\", \"disk-edge-on_yes_debiased\", \"disk-edge-on_no\", \"disk-edge-on_no_fraction\", \"disk-edge-on_no_debiased\", \"has-spiral-arms_total-votes\", \"has-spiral-arms_yes\", \"has-spiral-arms_yes_fraction\", \"has-spiral-arms_yes_debiased\", \"has-spiral-arms_no\", \"has-spiral-arms_no_fraction\", \"has-spiral-arms_no_debiased\", \"bar_total-votes\", \"bar_strong\", \"bar_strong_fraction\", \"bar_strong_debiased\", \"bar_weak\", \"bar_weak_fraction\", \"bar_weak_debiased\", \"bar_no\", \"bar_no_fraction\", \"bar_no_debiased\", \"bulge-size_total-votes\", \"bulge-size_dominant\", \"bulge-size_dominant_fraction\", \"bulge-size_dominant_debiased\", \"bulge-size_large\", \"bulge-size_large_fraction\", \"bulge-size_large_debiased\", \"bulge-size_moderate\", \"bulge-size_moderate_fraction\", \"bulge-size_moderate_debiased\", \"bulge-size_small\", \"bulge-size_small_fraction\", \"bulge-size_small_debiased\", \"bulge-size_none\", \"bulge-size_none_fraction\", \"bulge-size_none_debiased\", \"how-rounded_total-votes\", \"how-rounded_round\", \"how-rounded_round_fraction\", \"how-rounded_round_debiased\", \"how-rounded_in-between\", \"how-rounded_in-between_fraction\", \"how-rounded_in-between_debiased\", \"how-rounded_cigar-shaped\", \"how-rounded_cigar-shaped_fraction\", \"how-rounded_cigar-shaped_debiased\", \"edge-on-bulge_total-votes\", \"edge-on-bulge_boxy\", \"edge-on-bulge_boxy_fraction\", \"edge-on-bulge_boxy_debiased\", \"edge-on-bulge_none\", \"edge-on-bulge_none_fraction\", \"edge-on-bulge_none_debiased\", \"edge-on-bulge_rounded\", \"edge-on-bulge_rounded_fraction\", \"edge-on-bulge_rounded_debiased\", \"spiral-winding_total-votes\", \"spiral-winding_tight\", \"spiral-winding_tight_fraction\", \"spiral-winding_tight_debiased\", \"spiral-winding_medium\", \"spiral-winding_medium_fraction\", \"spiral-winding_medium_debiased\", \"spiral-winding_loose\", \"spiral-winding_loose_fraction\", \"spiral-winding_loose_debiased\", \"spiral-arm-count_total-votes\", \"spiral-arm-count_1\", \"spiral-arm-count_1_fraction\", \"spiral-arm-count_1_debiased\", \"spiral-arm-count_2\", \"spiral-arm-count_2_fraction\", \"spiral-arm-count_2_debiased\", \"spiral-arm-count_3\", \"spiral-arm-count_3_fraction\", \"spiral-arm-count_3_debiased\", \"spiral-arm-count_4\", \"spiral-arm-count_4_fraction\", \"spiral-arm-count_4_debiased\", \"spiral-arm-count_more-than-4\", \"spiral-arm-count_more-than-4_fraction\", \"spiral-arm-count_more-than-4_debiased\", \"spiral-arm-count_cant-tell\", \"spiral-arm-count_cant-tell_fraction\", \"spiral-arm-count_cant-tell_debiased\", \"merging_total-votes\", \"merging_none\", \"merging_none_fraction\", \"merging_none_debiased\", \"merging_minor-disturbance\", \"merging_minor-disturbance_fraction\", \"merging_minor-disturbance_debiased\", \"merging_major-disturbance\", \"merging_major-disturbance_fraction\", \"merging_major-disturbance_debiased\", \"merging_merger\", \"merging_merger_fraction\", \"merging_merger_debiased\", \"wrong_size_statistic\", \"wrong_size_warning\"]\n\nResolved plan until failure:\n\n\t---> FAILED HERE RESOLVING 'sink' <---\nParquet SCAN [dataset/gz_decals_volunteers_5.parquet]\nPROJECT */127 COLUMNS"
     ]
    }
   ],
   "source": [
    "volunteers.filter(pl.col(\"data_release\") == \"DR5\").head().collect()"
   ]
  },
  {
   "cell_type": "code",
   "execution_count": 9,
   "metadata": {},
   "outputs": [
    {
     "data": {
      "text/html": [
       "<div><style>\n",
       ".dataframe > thead > tr,\n",
       ".dataframe > tbody > tr {\n",
       "  text-align: right;\n",
       "  white-space: pre-wrap;\n",
       "}\n",
       "</style>\n",
       "<small>shape: (5, 128)</small><table border=\"1\" class=\"dataframe\"><thead><tr><th>iauname</th><th>image_path</th><th>ra</th><th>dec</th><th>redshift</th><th>elpetro_absmag_r</th><th>sersic_nmgy_r</th><th>petro_th50</th><th>petro_th90</th><th>petro_theta</th><th>upload_group</th><th>active_learning_on</th><th>in_gzd_ab</th><th>png_loc</th><th>smooth-or-featured_total-votes</th><th>smooth-or-featured_smooth</th><th>smooth-or-featured_smooth_fraction</th><th>smooth-or-featured_smooth_debiased</th><th>smooth-or-featured_featured-or-disk</th><th>smooth-or-featured_featured-or-disk_fraction</th><th>smooth-or-featured_featured-or-disk_debiased</th><th>smooth-or-featured_artifact</th><th>smooth-or-featured_artifact_fraction</th><th>smooth-or-featured_artifact_debiased</th><th>disk-edge-on_total-votes</th><th>disk-edge-on_yes</th><th>disk-edge-on_yes_fraction</th><th>disk-edge-on_yes_debiased</th><th>disk-edge-on_no</th><th>disk-edge-on_no_fraction</th><th>disk-edge-on_no_debiased</th><th>has-spiral-arms_total-votes</th><th>has-spiral-arms_yes</th><th>has-spiral-arms_yes_fraction</th><th>has-spiral-arms_yes_debiased</th><th>has-spiral-arms_no</th><th>has-spiral-arms_no_fraction</th><th>&hellip;</th><th>spiral-winding_loose</th><th>spiral-winding_loose_fraction</th><th>spiral-winding_loose_debiased</th><th>spiral-arm-count_total-votes</th><th>spiral-arm-count_1</th><th>spiral-arm-count_1_fraction</th><th>spiral-arm-count_1_debiased</th><th>spiral-arm-count_2</th><th>spiral-arm-count_2_fraction</th><th>spiral-arm-count_2_debiased</th><th>spiral-arm-count_3</th><th>spiral-arm-count_3_fraction</th><th>spiral-arm-count_3_debiased</th><th>spiral-arm-count_4</th><th>spiral-arm-count_4_fraction</th><th>spiral-arm-count_4_debiased</th><th>spiral-arm-count_more-than-4</th><th>spiral-arm-count_more-than-4_fraction</th><th>spiral-arm-count_more-than-4_debiased</th><th>spiral-arm-count_cant-tell</th><th>spiral-arm-count_cant-tell_fraction</th><th>spiral-arm-count_cant-tell_debiased</th><th>merging_total-votes</th><th>merging_none</th><th>merging_none_fraction</th><th>merging_none_debiased</th><th>merging_minor-disturbance</th><th>merging_minor-disturbance_fraction</th><th>merging_minor-disturbance_debiased</th><th>merging_major-disturbance</th><th>merging_major-disturbance_fraction</th><th>merging_major-disturbance_debiased</th><th>merging_merger</th><th>merging_merger_fraction</th><th>merging_merger_debiased</th><th>wrong_size_statistic</th><th>wrong_size_warning</th></tr><tr><td>str</td><td>str</td><td>f64</td><td>f64</td><td>f32</td><td>f32</td><td>f32</td><td>f32</td><td>f32</td><td>f32</td><td>str</td><td>bool</td><td>bool</td><td>str</td><td>i64</td><td>i64</td><td>f64</td><td>f64</td><td>i64</td><td>f64</td><td>f64</td><td>i64</td><td>f64</td><td>f64</td><td>i64</td><td>i64</td><td>f64</td><td>f64</td><td>i64</td><td>f64</td><td>f64</td><td>i64</td><td>i64</td><td>f64</td><td>f64</td><td>i64</td><td>f64</td><td>&hellip;</td><td>i64</td><td>f64</td><td>f64</td><td>i64</td><td>i64</td><td>f64</td><td>f64</td><td>i64</td><td>f64</td><td>f64</td><td>i64</td><td>f64</td><td>f64</td><td>i64</td><td>f64</td><td>f64</td><td>i64</td><td>f64</td><td>f64</td><td>i64</td><td>f64</td><td>f64</td><td>i64</td><td>i64</td><td>f64</td><td>f64</td><td>i64</td><td>f64</td><td>f64</td><td>i64</td><td>f64</td><td>f64</td><td>i64</td><td>f64</td><td>f64</td><td>f64</td><td>bool</td></tr></thead><tbody><tr><td>&quot;J090129.21+312231.5&quot;</td><td>&quot;J090/J090129.21+312231.5.png&quot;</td><td>135.371713</td><td>31.375571</td><td>0.137806</td><td>-21.641123</td><td>180.882065</td><td>4.158346</td><td>12.075812</td><td>8.12853</td><td>&quot;active_priority&quot;</td><td>true</td><td>false</td><td>&quot;dr5/J090/J090129.21+312231.5.p…</td><td>33</td><td>8</td><td>0.242424</td><td>0.162162</td><td>22</td><td>0.666667</td><td>0.431818</td><td>3</td><td>0.090909</td><td>0.085886</td><td>22</td><td>10</td><td>0.454545</td><td>0.125</td><td>12</td><td>0.545455</td><td>0.722024</td><td>12</td><td>4</td><td>0.333333</td><td>0.777778</td><td>8</td><td>0.666667</td><td>&hellip;</td><td>2</td><td>0.5</td><td>0.328626</td><td>4</td><td>0</td><td>0.0</td><td>0.0</td><td>1</td><td>0.25</td><td>0.057143</td><td>0</td><td>0.0</td><td>0.0</td><td>1</td><td>0.25</td><td>0.327932</td><td>0</td><td>0.0</td><td>0.0</td><td>2</td><td>0.5</td><td>0.464286</td><td>30</td><td>4</td><td>0.133333</td><td>0.014925</td><td>9</td><td>0.3</td><td>0.328084</td><td>13</td><td>0.433333</td><td>0.438776</td><td>4</td><td>0.133333</td><td>0.137345</td><td>146.600426</td><td>false</td></tr><tr><td>&quot;J094330.66+031550.1&quot;</td><td>&quot;J094/J094330.66+031550.1.png&quot;</td><td>145.877757</td><td>3.263964</td><td>0.114655</td><td>-21.197432</td><td>187.548782</td><td>3.244845</td><td>11.57657</td><td>8.891541</td><td>&quot;pre_active&quot;</td><td>false</td><td>false</td><td>&quot;dr5/J094/J094330.66+031550.1.p…</td><td>38</td><td>9</td><td>0.236842</td><td>0.027027</td><td>25</td><td>0.657895</td><td>0.9</td><td>4</td><td>0.105263</td><td>0.112016</td><td>25</td><td>10</td><td>0.4</td><td>0.259259</td><td>15</td><td>0.6</td><td>0.782541</td><td>15</td><td>9</td><td>0.6</td><td>0.965517</td><td>6</td><td>0.4</td><td>&hellip;</td><td>7</td><td>0.777778</td><td>0.504251</td><td>9</td><td>1</td><td>0.111111</td><td>0.060606</td><td>6</td><td>0.666667</td><td>0.225806</td><td>0</td><td>0.0</td><td>0.0</td><td>0</td><td>0.0</td><td>0.0</td><td>0</td><td>0.0</td><td>0.0</td><td>2</td><td>0.222222</td><td>0.289474</td><td>34</td><td>13</td><td>0.382353</td><td>0.432432</td><td>7</td><td>0.205882</td><td>0.207762</td><td>12</td><td>0.352941</td><td>0.382353</td><td>2</td><td>0.058824</td><td>0.03519</td><td>145.847663</td><td>false</td></tr><tr><td>&quot;J100456.61+033120.0&quot;</td><td>&quot;J100/J100456.61+033120.0.png&quot;</td><td>151.235906</td><td>3.522246</td><td>0.104561</td><td>-21.190382</td><td>292.128082</td><td>3.568215</td><td>10.866138</td><td>7.95873</td><td>&quot;pre_active&quot;</td><td>false</td><td>false</td><td>&quot;dr5/J100/J100456.61+033120.0.p…</td><td>38</td><td>4</td><td>0.105263</td><td>0.051724</td><td>33</td><td>0.868421</td><td>0.923077</td><td>1</td><td>0.026316</td><td>0.016767</td><td>33</td><td>3</td><td>0.090909</td><td>0.040816</td><td>30</td><td>0.909091</td><td>0.959701</td><td>30</td><td>25</td><td>0.833333</td><td>0.972222</td><td>5</td><td>0.166667</td><td>&hellip;</td><td>7</td><td>0.28</td><td>0.140426</td><td>25</td><td>8</td><td>0.32</td><td>0.117647</td><td>9</td><td>0.36</td><td>0.083333</td><td>1</td><td>0.04</td><td>0.09674</td><td>0</td><td>0.0</td><td>0.0</td><td>0</td><td>0.0</td><td>0.0</td><td>7</td><td>0.28</td><td>0.289474</td><td>37</td><td>20</td><td>0.540541</td><td>0.578947</td><td>11</td><td>0.297297</td><td>0.326311</td><td>4</td><td>0.108108</td><td>0.086207</td><td>2</td><td>0.054054</td><td>0.060052</td><td>143.045321</td><td>false</td></tr><tr><td>&quot;J010517.85-003541.9&quot;</td><td>&quot;J010/J010517.85-003541.9.png&quot;</td><td>16.324375</td><td>-0.595</td><td>0.071877</td><td>-19.959465</td><td>177.589676</td><td>3.149063</td><td>7.655921</td><td>6.884418</td><td>&quot;pre_active&quot;</td><td>false</td><td>false</td><td>&quot;dr5/J010/J010517.85-003541.9.p…</td><td>38</td><td>16</td><td>0.421053</td><td>0.081081</td><td>20</td><td>0.526316</td><td>0.92</td><td>2</td><td>0.052632</td><td>0.0</td><td>20</td><td>8</td><td>0.4</td><td>0.1875</td><td>12</td><td>0.6</td><td>0.683414</td><td>12</td><td>4</td><td>0.333333</td><td>0.892857</td><td>8</td><td>0.666667</td><td>&hellip;</td><td>2</td><td>0.5</td><td>0.250833</td><td>4</td><td>0</td><td>0.0</td><td>0.0</td><td>1</td><td>0.25</td><td>0.134328</td><td>0</td><td>0.0</td><td>0.0</td><td>0</td><td>0.0</td><td>0.0</td><td>0</td><td>0.0</td><td>0.0</td><td>3</td><td>0.75</td><td>0.722222</td><td>36</td><td>21</td><td>0.583333</td><td>0.62</td><td>4</td><td>0.111111</td><td>0.118426</td><td>1</td><td>0.027778</td><td>0.066667</td><td>3</td><td>0.083333</td><td>0.087309</td><td>116.365856</td><td>false</td></tr><tr><td>&quot;J004959.34+003511.1&quot;</td><td>&quot;J004/J004959.34+003511.1.png&quot;</td><td>12.497043</td><td>0.586473</td><td>0.034501</td><td>-18.807617</td><td>279.920502</td><td>5.891101</td><td>14.993075</td><td>12.464323</td><td>&quot;pre_active&quot;</td><td>false</td><td>false</td><td>&quot;dr5/J004/J004959.34+003511.1.p…</td><td>40</td><td>11</td><td>0.275</td><td>0.121212</td><td>28</td><td>0.7</td><td>0.823529</td><td>1</td><td>0.025</td><td>0.022262</td><td>28</td><td>4</td><td>0.142857</td><td>0.076923</td><td>24</td><td>0.857143</td><td>0.906202</td><td>24</td><td>2</td><td>0.083333</td><td>0.185185</td><td>22</td><td>0.916667</td><td>&hellip;</td><td>1</td><td>0.5</td><td>0.405216</td><td>2</td><td>1</td><td>0.5</td><td>0.733333</td><td>0</td><td>0.0</td><td>0.0</td><td>0</td><td>0.0</td><td>0.0</td><td>0</td><td>0.0</td><td>0.0</td><td>0</td><td>0.0</td><td>0.0</td><td>1</td><td>0.5</td><td>0.5</td><td>39</td><td>5</td><td>0.128205</td><td>0.0</td><td>15</td><td>0.384615</td><td>0.397613</td><td>8</td><td>0.205128</td><td>0.147059</td><td>2</td><td>0.051282</td><td>0.053887</td><td>156.325628</td><td>false</td></tr></tbody></table></div>"
      ],
      "text/plain": [
       "shape: (5, 128)\n",
       "┌───────────┬───────────┬───────────┬───────────┬───┬───────────┬───────────┬───────────┬──────────┐\n",
       "│ iauname   ┆ image_pat ┆ ra        ┆ dec       ┆ … ┆ merging_m ┆ merging_m ┆ wrong_siz ┆ wrong_si │\n",
       "│ ---       ┆ h         ┆ ---       ┆ ---       ┆   ┆ erger_fra ┆ erger_deb ┆ e_statist ┆ ze_warni │\n",
       "│ str       ┆ ---       ┆ f64       ┆ f64       ┆   ┆ ction     ┆ iased     ┆ ic        ┆ ng       │\n",
       "│           ┆ str       ┆           ┆           ┆   ┆ ---       ┆ ---       ┆ ---       ┆ ---      │\n",
       "│           ┆           ┆           ┆           ┆   ┆ f64       ┆ f64       ┆ f64       ┆ bool     │\n",
       "╞═══════════╪═══════════╪═══════════╪═══════════╪═══╪═══════════╪═══════════╪═══════════╪══════════╡\n",
       "│ J090129.2 ┆ J090/J090 ┆ 135.37171 ┆ 31.375571 ┆ … ┆ 0.133333  ┆ 0.137345  ┆ 146.60042 ┆ false    │\n",
       "│ 1+312231. ┆ 129.21+31 ┆ 3         ┆           ┆   ┆           ┆           ┆ 6         ┆          │\n",
       "│ 5         ┆ 2231.5.pn ┆           ┆           ┆   ┆           ┆           ┆           ┆          │\n",
       "│           ┆ g         ┆           ┆           ┆   ┆           ┆           ┆           ┆          │\n",
       "│ J094330.6 ┆ J094/J094 ┆ 145.87775 ┆ 3.263964  ┆ … ┆ 0.058824  ┆ 0.03519   ┆ 145.84766 ┆ false    │\n",
       "│ 6+031550. ┆ 330.66+03 ┆ 7         ┆           ┆   ┆           ┆           ┆ 3         ┆          │\n",
       "│ 1         ┆ 1550.1.pn ┆           ┆           ┆   ┆           ┆           ┆           ┆          │\n",
       "│           ┆ g         ┆           ┆           ┆   ┆           ┆           ┆           ┆          │\n",
       "│ J100456.6 ┆ J100/J100 ┆ 151.23590 ┆ 3.522246  ┆ … ┆ 0.054054  ┆ 0.060052  ┆ 143.04532 ┆ false    │\n",
       "│ 1+033120. ┆ 456.61+03 ┆ 6         ┆           ┆   ┆           ┆           ┆ 1         ┆          │\n",
       "│ 0         ┆ 3120.0.pn ┆           ┆           ┆   ┆           ┆           ┆           ┆          │\n",
       "│           ┆ g         ┆           ┆           ┆   ┆           ┆           ┆           ┆          │\n",
       "│ J010517.8 ┆ J010/J010 ┆ 16.324375 ┆ -0.595    ┆ … ┆ 0.083333  ┆ 0.087309  ┆ 116.36585 ┆ false    │\n",
       "│ 5-003541. ┆ 517.85-00 ┆           ┆           ┆   ┆           ┆           ┆ 6         ┆          │\n",
       "│ 9         ┆ 3541.9.pn ┆           ┆           ┆   ┆           ┆           ┆           ┆          │\n",
       "│           ┆ g         ┆           ┆           ┆   ┆           ┆           ┆           ┆          │\n",
       "│ J004959.3 ┆ J004/J004 ┆ 12.497043 ┆ 0.586473  ┆ … ┆ 0.051282  ┆ 0.053887  ┆ 156.32562 ┆ false    │\n",
       "│ 4+003511. ┆ 959.34+00 ┆           ┆           ┆   ┆           ┆           ┆ 8         ┆          │\n",
       "│ 1         ┆ 3511.1.pn ┆           ┆           ┆   ┆           ┆           ┆           ┆          │\n",
       "│           ┆ g         ┆           ┆           ┆   ┆           ┆           ┆           ┆          │\n",
       "└───────────┴───────────┴───────────┴───────────┴───┴───────────┴───────────┴───────────┴──────────┘"
      ]
     },
     "execution_count": 9,
     "metadata": {},
     "output_type": "execute_result"
    }
   ],
   "source": [
    "def add_image_path(df: pl.LazyFrame, dataset_dir: str = \"./dataset\") -> pl.LazyFrame:\n",
    "    # check if file exists\n",
    "    def file_exists(path: str) -> bool:\n",
    "        return os.path.exists(os.path.join(dataset_dir, path))\n",
    "\n",
    "    df = df.with_columns(\n",
    "        (pl.col(\"iauname\").str.slice(0, 4) + \"/\" + pl.col(\"iauname\") + \".png\").alias(\n",
    "            \"image_path\"\n",
    "        ),\n",
    "    ).filter(pl.col(\"image_path\").map_elements(file_exists, return_dtype=pl.Boolean))\n",
    "\n",
    "    # reorder columns to have 'image_path' first\n",
    "    df = df.select(\n",
    "        pl.col(\"iauname\", \"image_path\"),\n",
    "        *df.drop(\"image_path\", \"iauname\").collect_schema().names()\n",
    "    )\n",
    "\n",
    "    return df\n",
    "\n",
    "\n",
    "volunteers = (add_image_path(volunteers).drop_nans())\n",
    "volunteers.tail().collect()"
   ]
  },
  {
   "cell_type": "code",
   "execution_count": 10,
   "metadata": {},
   "outputs": [],
   "source": [
    "# save the updated DataFrame to a new Parquet file\n",
    "volunteers.drop(\"png_loc\").sink_parquet(\"dataset/gz_decals_volunteers_5_images.parquet\")"
   ]
  },
  {
   "cell_type": "code",
   "execution_count": 11,
   "metadata": {},
   "outputs": [],
   "source": [
    "import dataset\n",
    "\n",
    "data = dataset.GalaxyZooDecalsDataset(root=\"./dataset\")"
   ]
  },
  {
   "cell_type": "code",
   "execution_count": null,
   "metadata": {},
   "outputs": [
    {
     "data": {
      "text/plain": [
       "tensor([[0.0500, 0.9388, 0.0199, 0.0278, 0.9790, 0.9074, 0.3107, 0.8333, 0.1724,\n",
       "         0.0303, 0.0000, 0.0465, 0.6562, 0.4237, 0.0000, 0.0000, 0.9000, 0.1111,\n",
       "         0.0000, 0.0000, 1.0000, 0.5021, 0.6368, 0.0000, 0.0000, 0.2258, 0.0000,\n",
       "         0.0000, 0.0000, 0.4783, 0.3793, 0.3634, 0.3784, 0.1297]])"
      ]
     },
     "execution_count": 15,
     "metadata": {},
     "output_type": "execute_result"
    }
   ],
   "source": [
    "data[0][1].squeeze()"
   ]
  },
  {
   "cell_type": "code",
   "execution_count": null,
   "metadata": {},
   "outputs": [],
   "source": []
  }
 ],
 "metadata": {
  "kernelspec": {
   "display_name": "AppML25",
   "language": "python",
   "name": "python3"
  },
  "language_info": {
   "codemirror_mode": {
    "name": "ipython",
    "version": 3
   },
   "file_extension": ".py",
   "mimetype": "text/x-python",
   "name": "python",
   "nbconvert_exporter": "python",
   "pygments_lexer": "ipython3",
   "version": "3.13.3"
  }
 },
 "nbformat": 4,
 "nbformat_minor": 2
}
